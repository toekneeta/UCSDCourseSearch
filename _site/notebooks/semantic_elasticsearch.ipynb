{
 "cells": [
  {
   "cell_type": "code",
   "execution_count": 2,
   "metadata": {},
   "outputs": [],
   "source": [
    "import pandas as pd\n",
    "import numpy as np\n",
    "from sentence_transformers import SentenceTransformer\n",
    "from elasticsearch import Elasticsearch\n",
    "from elasticsearch.helpers import bulk"
   ]
  },
  {
   "cell_type": "markdown",
   "metadata": {},
   "source": [
    "## Step 0: Load Data"
   ]
  },
  {
   "cell_type": "code",
   "execution_count": 3,
   "metadata": {},
   "outputs": [
    {
     "ename": "AttributeError",
     "evalue": "Can't get attribute '_unpickle_block' on <module 'pandas._libs.internals' from 'C:\\\\Users\\\\tonyt\\\\anaconda3\\\\lib\\\\site-packages\\\\pandas\\\\_libs\\\\internals.cp39-win_amd64.pyd'>",
     "output_type": "error",
     "traceback": [
      "\u001b[1;31m---------------------------------------------------------------------------\u001b[0m",
      "\u001b[1;31mAttributeError\u001b[0m                            Traceback (most recent call last)",
      "\u001b[1;32m~\\AppData\\Local\\Temp/ipykernel_4736/3768444332.py\u001b[0m in \u001b[0;36m<module>\u001b[1;34m\u001b[0m\n\u001b[1;32m----> 1\u001b[1;33m \u001b[0mcourse_info\u001b[0m \u001b[1;33m=\u001b[0m \u001b[0mpd\u001b[0m\u001b[1;33m.\u001b[0m\u001b[0mread_pickle\u001b[0m\u001b[1;33m(\u001b[0m\u001b[1;34m'data/course_catalog_with_embeddings.pkl'\u001b[0m\u001b[1;33m)\u001b[0m\u001b[1;33m\u001b[0m\u001b[1;33m\u001b[0m\u001b[0m\n\u001b[0m\u001b[0;32m      2\u001b[0m \u001b[1;31m# first column unneeded\u001b[0m\u001b[1;33m\u001b[0m\u001b[1;33m\u001b[0m\u001b[0m\n\u001b[0;32m      3\u001b[0m \u001b[1;31m# course_info = course_info.drop(course_info.columns[0], axis=1)\u001b[0m\u001b[1;33m\u001b[0m\u001b[1;33m\u001b[0m\u001b[0m\n\u001b[0;32m      4\u001b[0m \u001b[0mcourse_info\u001b[0m\u001b[1;33m.\u001b[0m\u001b[0mhead\u001b[0m\u001b[1;33m(\u001b[0m\u001b[1;33m)\u001b[0m\u001b[1;33m\u001b[0m\u001b[1;33m\u001b[0m\u001b[0m\n",
      "\u001b[1;32m~\\anaconda3\\lib\\site-packages\\pandas\\io\\pickle.py\u001b[0m in \u001b[0;36mread_pickle\u001b[1;34m(filepath_or_buffer, compression, storage_options)\u001b[0m\n\u001b[0;32m    220\u001b[0m                 \u001b[1;31m#  \"No module named 'pandas.core.sparse.series'\"\u001b[0m\u001b[1;33m\u001b[0m\u001b[1;33m\u001b[0m\u001b[0m\n\u001b[0;32m    221\u001b[0m                 \u001b[1;31m#  \"Can't get attribute '__nat_unpickle' on <module 'pandas._libs.tslib\"\u001b[0m\u001b[1;33m\u001b[0m\u001b[1;33m\u001b[0m\u001b[0m\n\u001b[1;32m--> 222\u001b[1;33m                 \u001b[1;32mreturn\u001b[0m \u001b[0mpc\u001b[0m\u001b[1;33m.\u001b[0m\u001b[0mload\u001b[0m\u001b[1;33m(\u001b[0m\u001b[0mhandles\u001b[0m\u001b[1;33m.\u001b[0m\u001b[0mhandle\u001b[0m\u001b[1;33m,\u001b[0m \u001b[0mencoding\u001b[0m\u001b[1;33m=\u001b[0m\u001b[1;32mNone\u001b[0m\u001b[1;33m)\u001b[0m\u001b[1;33m\u001b[0m\u001b[1;33m\u001b[0m\u001b[0m\n\u001b[0m\u001b[0;32m    223\u001b[0m         \u001b[1;32mexcept\u001b[0m \u001b[0mUnicodeDecodeError\u001b[0m\u001b[1;33m:\u001b[0m\u001b[1;33m\u001b[0m\u001b[1;33m\u001b[0m\u001b[0m\n\u001b[0;32m    224\u001b[0m             \u001b[1;31m# e.g. can occur for files written in py27; see GH#28645 and GH#31988\u001b[0m\u001b[1;33m\u001b[0m\u001b[1;33m\u001b[0m\u001b[0m\n",
      "\u001b[1;32m~\\anaconda3\\lib\\site-packages\\pandas\\compat\\pickle_compat.py\u001b[0m in \u001b[0;36mload\u001b[1;34m(fh, encoding, is_verbose)\u001b[0m\n\u001b[0;32m    272\u001b[0m         \u001b[0mup\u001b[0m\u001b[1;33m.\u001b[0m\u001b[0mis_verbose\u001b[0m \u001b[1;33m=\u001b[0m \u001b[0mis_verbose\u001b[0m\u001b[1;33m\u001b[0m\u001b[1;33m\u001b[0m\u001b[0m\n\u001b[0;32m    273\u001b[0m \u001b[1;33m\u001b[0m\u001b[0m\n\u001b[1;32m--> 274\u001b[1;33m         \u001b[1;32mreturn\u001b[0m \u001b[0mup\u001b[0m\u001b[1;33m.\u001b[0m\u001b[0mload\u001b[0m\u001b[1;33m(\u001b[0m\u001b[1;33m)\u001b[0m\u001b[1;33m\u001b[0m\u001b[1;33m\u001b[0m\u001b[0m\n\u001b[0m\u001b[0;32m    275\u001b[0m     \u001b[1;32mexcept\u001b[0m \u001b[1;33m(\u001b[0m\u001b[0mValueError\u001b[0m\u001b[1;33m,\u001b[0m \u001b[0mTypeError\u001b[0m\u001b[1;33m)\u001b[0m\u001b[1;33m:\u001b[0m\u001b[1;33m\u001b[0m\u001b[1;33m\u001b[0m\u001b[0m\n\u001b[0;32m    276\u001b[0m         \u001b[1;32mraise\u001b[0m\u001b[1;33m\u001b[0m\u001b[1;33m\u001b[0m\u001b[0m\n",
      "\u001b[1;32m~\\anaconda3\\lib\\pickle.py\u001b[0m in \u001b[0;36mload\u001b[1;34m(self)\u001b[0m\n\u001b[0;32m   1210\u001b[0m                     \u001b[1;32mraise\u001b[0m \u001b[0mEOFError\u001b[0m\u001b[1;33m\u001b[0m\u001b[1;33m\u001b[0m\u001b[0m\n\u001b[0;32m   1211\u001b[0m                 \u001b[1;32massert\u001b[0m \u001b[0misinstance\u001b[0m\u001b[1;33m(\u001b[0m\u001b[0mkey\u001b[0m\u001b[1;33m,\u001b[0m \u001b[0mbytes_types\u001b[0m\u001b[1;33m)\u001b[0m\u001b[1;33m\u001b[0m\u001b[1;33m\u001b[0m\u001b[0m\n\u001b[1;32m-> 1212\u001b[1;33m                 \u001b[0mdispatch\u001b[0m\u001b[1;33m[\u001b[0m\u001b[0mkey\u001b[0m\u001b[1;33m[\u001b[0m\u001b[1;36m0\u001b[0m\u001b[1;33m]\u001b[0m\u001b[1;33m]\u001b[0m\u001b[1;33m(\u001b[0m\u001b[0mself\u001b[0m\u001b[1;33m)\u001b[0m\u001b[1;33m\u001b[0m\u001b[1;33m\u001b[0m\u001b[0m\n\u001b[0m\u001b[0;32m   1213\u001b[0m         \u001b[1;32mexcept\u001b[0m \u001b[0m_Stop\u001b[0m \u001b[1;32mas\u001b[0m \u001b[0mstopinst\u001b[0m\u001b[1;33m:\u001b[0m\u001b[1;33m\u001b[0m\u001b[1;33m\u001b[0m\u001b[0m\n\u001b[0;32m   1214\u001b[0m             \u001b[1;32mreturn\u001b[0m \u001b[0mstopinst\u001b[0m\u001b[1;33m.\u001b[0m\u001b[0mvalue\u001b[0m\u001b[1;33m\u001b[0m\u001b[1;33m\u001b[0m\u001b[0m\n",
      "\u001b[1;32m~\\anaconda3\\lib\\pickle.py\u001b[0m in \u001b[0;36mload_stack_global\u001b[1;34m(self)\u001b[0m\n\u001b[0;32m   1535\u001b[0m         \u001b[1;32mif\u001b[0m \u001b[0mtype\u001b[0m\u001b[1;33m(\u001b[0m\u001b[0mname\u001b[0m\u001b[1;33m)\u001b[0m \u001b[1;32mis\u001b[0m \u001b[1;32mnot\u001b[0m \u001b[0mstr\u001b[0m \u001b[1;32mor\u001b[0m \u001b[0mtype\u001b[0m\u001b[1;33m(\u001b[0m\u001b[0mmodule\u001b[0m\u001b[1;33m)\u001b[0m \u001b[1;32mis\u001b[0m \u001b[1;32mnot\u001b[0m \u001b[0mstr\u001b[0m\u001b[1;33m:\u001b[0m\u001b[1;33m\u001b[0m\u001b[1;33m\u001b[0m\u001b[0m\n\u001b[0;32m   1536\u001b[0m             \u001b[1;32mraise\u001b[0m \u001b[0mUnpicklingError\u001b[0m\u001b[1;33m(\u001b[0m\u001b[1;34m\"STACK_GLOBAL requires str\"\u001b[0m\u001b[1;33m)\u001b[0m\u001b[1;33m\u001b[0m\u001b[1;33m\u001b[0m\u001b[0m\n\u001b[1;32m-> 1537\u001b[1;33m         \u001b[0mself\u001b[0m\u001b[1;33m.\u001b[0m\u001b[0mappend\u001b[0m\u001b[1;33m(\u001b[0m\u001b[0mself\u001b[0m\u001b[1;33m.\u001b[0m\u001b[0mfind_class\u001b[0m\u001b[1;33m(\u001b[0m\u001b[0mmodule\u001b[0m\u001b[1;33m,\u001b[0m \u001b[0mname\u001b[0m\u001b[1;33m)\u001b[0m\u001b[1;33m)\u001b[0m\u001b[1;33m\u001b[0m\u001b[1;33m\u001b[0m\u001b[0m\n\u001b[0m\u001b[0;32m   1538\u001b[0m     \u001b[0mdispatch\u001b[0m\u001b[1;33m[\u001b[0m\u001b[0mSTACK_GLOBAL\u001b[0m\u001b[1;33m[\u001b[0m\u001b[1;36m0\u001b[0m\u001b[1;33m]\u001b[0m\u001b[1;33m]\u001b[0m \u001b[1;33m=\u001b[0m \u001b[0mload_stack_global\u001b[0m\u001b[1;33m\u001b[0m\u001b[1;33m\u001b[0m\u001b[0m\n\u001b[0;32m   1539\u001b[0m \u001b[1;33m\u001b[0m\u001b[0m\n",
      "\u001b[1;32m~\\anaconda3\\lib\\site-packages\\pandas\\compat\\pickle_compat.py\u001b[0m in \u001b[0;36mfind_class\u001b[1;34m(self, module, name)\u001b[0m\n\u001b[0;32m    204\u001b[0m         \u001b[0mkey\u001b[0m \u001b[1;33m=\u001b[0m \u001b[1;33m(\u001b[0m\u001b[0mmodule\u001b[0m\u001b[1;33m,\u001b[0m \u001b[0mname\u001b[0m\u001b[1;33m)\u001b[0m\u001b[1;33m\u001b[0m\u001b[1;33m\u001b[0m\u001b[0m\n\u001b[0;32m    205\u001b[0m         \u001b[0mmodule\u001b[0m\u001b[1;33m,\u001b[0m \u001b[0mname\u001b[0m \u001b[1;33m=\u001b[0m \u001b[0m_class_locations_map\u001b[0m\u001b[1;33m.\u001b[0m\u001b[0mget\u001b[0m\u001b[1;33m(\u001b[0m\u001b[0mkey\u001b[0m\u001b[1;33m,\u001b[0m \u001b[0mkey\u001b[0m\u001b[1;33m)\u001b[0m\u001b[1;33m\u001b[0m\u001b[1;33m\u001b[0m\u001b[0m\n\u001b[1;32m--> 206\u001b[1;33m         \u001b[1;32mreturn\u001b[0m \u001b[0msuper\u001b[0m\u001b[1;33m(\u001b[0m\u001b[1;33m)\u001b[0m\u001b[1;33m.\u001b[0m\u001b[0mfind_class\u001b[0m\u001b[1;33m(\u001b[0m\u001b[0mmodule\u001b[0m\u001b[1;33m,\u001b[0m \u001b[0mname\u001b[0m\u001b[1;33m)\u001b[0m\u001b[1;33m\u001b[0m\u001b[1;33m\u001b[0m\u001b[0m\n\u001b[0m\u001b[0;32m    207\u001b[0m \u001b[1;33m\u001b[0m\u001b[0m\n\u001b[0;32m    208\u001b[0m \u001b[1;33m\u001b[0m\u001b[0m\n",
      "\u001b[1;32m~\\anaconda3\\lib\\pickle.py\u001b[0m in \u001b[0;36mfind_class\u001b[1;34m(self, module, name)\u001b[0m\n\u001b[0;32m   1579\u001b[0m         \u001b[0m__import__\u001b[0m\u001b[1;33m(\u001b[0m\u001b[0mmodule\u001b[0m\u001b[1;33m,\u001b[0m \u001b[0mlevel\u001b[0m\u001b[1;33m=\u001b[0m\u001b[1;36m0\u001b[0m\u001b[1;33m)\u001b[0m\u001b[1;33m\u001b[0m\u001b[1;33m\u001b[0m\u001b[0m\n\u001b[0;32m   1580\u001b[0m         \u001b[1;32mif\u001b[0m \u001b[0mself\u001b[0m\u001b[1;33m.\u001b[0m\u001b[0mproto\u001b[0m \u001b[1;33m>=\u001b[0m \u001b[1;36m4\u001b[0m\u001b[1;33m:\u001b[0m\u001b[1;33m\u001b[0m\u001b[1;33m\u001b[0m\u001b[0m\n\u001b[1;32m-> 1581\u001b[1;33m             \u001b[1;32mreturn\u001b[0m \u001b[0m_getattribute\u001b[0m\u001b[1;33m(\u001b[0m\u001b[0msys\u001b[0m\u001b[1;33m.\u001b[0m\u001b[0mmodules\u001b[0m\u001b[1;33m[\u001b[0m\u001b[0mmodule\u001b[0m\u001b[1;33m]\u001b[0m\u001b[1;33m,\u001b[0m \u001b[0mname\u001b[0m\u001b[1;33m)\u001b[0m\u001b[1;33m[\u001b[0m\u001b[1;36m0\u001b[0m\u001b[1;33m]\u001b[0m\u001b[1;33m\u001b[0m\u001b[1;33m\u001b[0m\u001b[0m\n\u001b[0m\u001b[0;32m   1582\u001b[0m         \u001b[1;32melse\u001b[0m\u001b[1;33m:\u001b[0m\u001b[1;33m\u001b[0m\u001b[1;33m\u001b[0m\u001b[0m\n\u001b[0;32m   1583\u001b[0m             \u001b[1;32mreturn\u001b[0m \u001b[0mgetattr\u001b[0m\u001b[1;33m(\u001b[0m\u001b[0msys\u001b[0m\u001b[1;33m.\u001b[0m\u001b[0mmodules\u001b[0m\u001b[1;33m[\u001b[0m\u001b[0mmodule\u001b[0m\u001b[1;33m]\u001b[0m\u001b[1;33m,\u001b[0m \u001b[0mname\u001b[0m\u001b[1;33m)\u001b[0m\u001b[1;33m\u001b[0m\u001b[1;33m\u001b[0m\u001b[0m\n",
      "\u001b[1;32m~\\anaconda3\\lib\\pickle.py\u001b[0m in \u001b[0;36m_getattribute\u001b[1;34m(obj, name)\u001b[0m\n\u001b[0;32m    329\u001b[0m             \u001b[0mobj\u001b[0m \u001b[1;33m=\u001b[0m \u001b[0mgetattr\u001b[0m\u001b[1;33m(\u001b[0m\u001b[0mobj\u001b[0m\u001b[1;33m,\u001b[0m \u001b[0msubpath\u001b[0m\u001b[1;33m)\u001b[0m\u001b[1;33m\u001b[0m\u001b[1;33m\u001b[0m\u001b[0m\n\u001b[0;32m    330\u001b[0m         \u001b[1;32mexcept\u001b[0m \u001b[0mAttributeError\u001b[0m\u001b[1;33m:\u001b[0m\u001b[1;33m\u001b[0m\u001b[1;33m\u001b[0m\u001b[0m\n\u001b[1;32m--> 331\u001b[1;33m             raise AttributeError(\"Can't get attribute {!r} on {!r}\"\n\u001b[0m\u001b[0;32m    332\u001b[0m                                  .format(name, obj)) from None\n\u001b[0;32m    333\u001b[0m     \u001b[1;32mreturn\u001b[0m \u001b[0mobj\u001b[0m\u001b[1;33m,\u001b[0m \u001b[0mparent\u001b[0m\u001b[1;33m\u001b[0m\u001b[1;33m\u001b[0m\u001b[0m\n",
      "\u001b[1;31mAttributeError\u001b[0m: Can't get attribute '_unpickle_block' on <module 'pandas._libs.internals' from 'C:\\\\Users\\\\tonyt\\\\anaconda3\\\\lib\\\\site-packages\\\\pandas\\\\_libs\\\\internals.cp39-win_amd64.pyd'>"
     ]
    }
   ],
   "source": [
    "course_info = pd.read_pickle('data/course_catalog_with_embeddings.pkl')\n",
    "# first column unneeded\n",
    "# course_info = course_info.drop(course_info.columns[0], axis=1)\n",
    "course_info.head()"
   ]
  },
  {
   "cell_type": "code",
   "execution_count": null,
   "metadata": {},
   "outputs": [],
   "source": [
    "# Elasticsearch will not take tensors\n",
    "course_info['Title Embeddings'] = course_info['Title Embeddings'].apply(lambda x: x.tolist())\n",
    "course_info['Description Embeddings'] = course_info['Description Embeddings'].apply(lambda x: x.tolist())\n"
   ]
  },
  {
   "cell_type": "code",
   "execution_count": null,
   "metadata": {},
   "outputs": [],
   "source": [
    "course_info.head()"
   ]
  },
  {
   "cell_type": "code",
   "execution_count": null,
   "metadata": {},
   "outputs": [],
   "source": [
    "# course_info = course_info.astype(str)\n",
    "# course_info = course_info.drop_duplicates()"
   ]
  },
  {
   "cell_type": "markdown",
   "metadata": {},
   "source": [
    "## Step 1: Set up Elasticsearch"
   ]
  },
  {
   "cell_type": "code",
   "execution_count": 6,
   "metadata": {},
   "outputs": [
    {
     "data": {
      "text/plain": [
       "{'name': 'c6c0d07c575e',\n",
       " 'cluster_name': 'docker-cluster',\n",
       " 'cluster_uuid': '-3KcIDroTZmcRmiUraI1qg',\n",
       " 'version': {'number': '8.7.0',\n",
       "  'build_flavor': 'default',\n",
       "  'build_type': 'docker',\n",
       "  'build_hash': '09520b59b6bc1057340b55750186466ea715e30e',\n",
       "  'build_date': '2023-03-27T16:31:09.816451435Z',\n",
       "  'build_snapshot': False,\n",
       "  'lucene_version': '9.5.0',\n",
       "  'minimum_wire_compatibility_version': '7.17.0',\n",
       "  'minimum_index_compatibility_version': '7.0.0'},\n",
       " 'tagline': 'You Know, for Search'}"
      ]
     },
     "execution_count": 6,
     "metadata": {},
     "output_type": "execute_result"
    }
   ],
   "source": [
    "es = Elasticsearch(\"http://localhost:9200\")\n",
    "es.info().body"
   ]
  },
  {
   "cell_type": "code",
   "execution_count": 7,
   "metadata": {},
   "outputs": [],
   "source": [
    "# creating mappings \n",
    "mappings = {\n",
    "    \"properties\": {\n",
    "        'Code': {\"type\": \"text\"}, \n",
    "        'Department': {\"type\": \"keyword\"}, \n",
    "        'Title': {\"type\": \"text\"}, \n",
    "        'Units': {\"type\": \"text\"}, \n",
    "        'Description': {\"type\": \"text\"}, \n",
    "        'Prerequisites': {\"type\": \"text\"}, \n",
    "        'Level': {\"type\": \"keyword\"}, \n",
    "        'URL': {\"type\": \"text\"}, \n",
    "        'Description Embeddings':{'type': 'dense_vector', 'dims':768, \"index\":True, \"similarity\":\"cosine\"},\n",
    "        'Title Embeddings':{'type': 'dense_vector', 'dims':768, \"index\":True, \"similarity\":\"cosine\"},\n",
    "    }\n",
    "}"
   ]
  },
  {
   "cell_type": "code",
   "execution_count": 8,
   "metadata": {},
   "outputs": [],
   "source": [
    "try:\n",
    "    es.indices.create(index=\"courses\", mappings=mappings)\n",
    "except:\n",
    "    print('passed')\n",
    "    pass"
   ]
  },
  {
   "cell_type": "markdown",
   "metadata": {},
   "source": [
    "## Step 2: Adding Data into ElasticSearch"
   ]
  },
  {
   "cell_type": "code",
   "execution_count": 9,
   "metadata": {},
   "outputs": [
    {
     "data": {
      "text/plain": [
       "(7169, [])"
      ]
     },
     "execution_count": 9,
     "metadata": {},
     "output_type": "execute_result"
    }
   ],
   "source": [
    "# Creating a list of dictionaries with all the data to be added in to the ElasticSearch index\n",
    "bulk_data = []\n",
    "for i, row in course_info.iterrows():\n",
    "    bulk_data.append(\n",
    "        {\n",
    "            \"_index\": \"courses\",\n",
    "            \"_id\": i,\n",
    "            \"_source\": {\n",
    "                \"Code\": row['Code'],\n",
    "                'Department': row['Department'], \n",
    "                'Title': row['Title'], \n",
    "                'Units': row['Units'], \n",
    "                'Description': row['Description'], \n",
    "                'Prerequisites': row['Prerequisites'],\n",
    "                'Level':row['Level'],\n",
    "                'URL':row['URL'],\n",
    "                'Description Embeddings': row['Description Embeddings'],\n",
    "                'Title Embeddings':row['Title Embeddings'],\n",
    "            }\n",
    "        }\n",
    "    )\n",
    "\n",
    "bulk(es, bulk_data)"
   ]
  },
  {
   "cell_type": "code",
   "execution_count": 10,
   "metadata": {},
   "outputs": [
    {
     "data": {
      "text/plain": [
       "ListApiResponse([{'epoch': '1706498422', 'timestamp': '03:20:22', 'count': '7169'}])"
      ]
     },
     "execution_count": 10,
     "metadata": {},
     "output_type": "execute_result"
    }
   ],
   "source": [
    "# verifying that all data has been read into the python index properly\n",
    "es.indices.refresh(index=\"courses\")\n",
    "es.cat.count(index=\"courses\", format=\"json\")"
   ]
  },
  {
   "cell_type": "markdown",
   "metadata": {},
   "source": [
    "## Step 3: Performing Search"
   ]
  },
  {
   "cell_type": "code",
   "execution_count": 11,
   "metadata": {},
   "outputs": [],
   "source": [
    "# def es_search(query, upperdiv=True, lowerdiv=True, graduate=True, include='', exclude='', k=10):\n",
    "#     # Build the query\n",
    "#     must_clauses = [{\n",
    "#         \"query_string\": {\n",
    "#             \"query\": query,\n",
    "#             \"fields\": [\n",
    "#                 'Code',\n",
    "#                 'Department',\n",
    "#                 'Title',\n",
    "#                 'Description',\n",
    "#                 'Prerequisites',\n",
    "#                 'Level'\n",
    "#             ],\n",
    "#             \"phrase_slop\": 2\n",
    "#         }\n",
    "#     }]\n",
    "\n",
    "#     # Process include and exclude lists\n",
    "#     include_list = include.upper().replace(\" \", \"\").split(',')\n",
    "#     exclude_list = exclude.upper().replace(\" \", \"\").split(',')\n",
    "#     print(include_list)\n",
    "\n",
    "#     # Add department filters\n",
    "#     if include_list != ['']:\n",
    "#         must_clauses.append({\"terms\": {\"Department\": include_list}})\n",
    "    \n",
    "#     must_not_clause = {\"terms\": {\"Department\": exclude_list}} if exclude_list != [''] else []\n",
    "\n",
    "#     print(exclude_list)\n",
    "\n",
    "#     # Initialize the 'should' clause for class level filters\n",
    "#     should_clauses = []\n",
    "#     if upperdiv:\n",
    "#         should_clauses.append({\"match\": {\"Level\": \"Upper Division\"}})\n",
    "#     if lowerdiv:\n",
    "#         should_clauses.append({\"match\": {\"Level\": \"Lower Division\"}})\n",
    "#     if graduate:\n",
    "#         should_clauses.append({\"match\": {\"Level\": \"Graduate\"}})\n",
    "\n",
    "#     # Build the final query\n",
    "#     es_query = {\n",
    "#         \"query\": {\n",
    "#             \"bool\": {\n",
    "#                 \"must\": must_clauses,\n",
    "#                 \"should\": should_clauses,\n",
    "#                 \"must_not\": must_not_clause,\n",
    "#                 # \"minimum_should_match\": 1 if should_clauses else 0\n",
    "#             }\n",
    "#         },\n",
    "#         \"size\": k\n",
    "#     }\n",
    "\n",
    "#     response = es.search(index=\"courses\", body=es_query)\n",
    "    \n",
    "#     results = []\n",
    "#     for hit in response['hits']['hits']:\n",
    "#         row = hit['_source']\n",
    "#         results.append((row['Code'], row['Title'], row['Description'], row['Prerequisites']))\n",
    "        \n",
    "#     return results\n"
   ]
  },
  {
   "cell_type": "code",
   "execution_count": 22,
   "metadata": {},
   "outputs": [],
   "source": [
    "# es_search('game theory', exclude=\"POLI\")"
   ]
  },
  {
   "cell_type": "code",
   "execution_count": null,
   "metadata": {},
   "outputs": [],
   "source": [
    "# test_results = {'Code':['DSC 100', 'DSC 80', 'DSC 10', \"DSC 200\",\"POLI 117\"]}\n",
    "\n",
    "# def filter(results, upperdiv, lowerdiv, graduate, include, exclude):\n",
    "#     df = pd.DataFrame(results).merge(course_info, on=\"Code\")\n",
    "\n",
    "#     if not upperdiv:\n",
    "#         df.drop(df.loc[df['Level']=='Upper Division'].index, inplace=True)\n",
    "\n",
    "#     if not lowerdiv:\n",
    "#         df.drop(df.loc[df['Level']=='Lower Division'].index, inplace=True)\n",
    "\n",
    "#     if not graduate:\n",
    "#         df.drop(df.loc[df['Level']=='Graduate'].index, inplace=True)\n",
    "\n",
    "#     # pre-processing of include and exlude\n",
    "#     include_list = include.upper().upper().replace(\" \", \"\").split(',')\n",
    "#     exclude_list = exclude.upper().upper().replace(\" \", \"\").split(',')\n",
    "\n",
    "#     include_mask = df['Department'].isin(include_list)\n",
    "#     exclude_mask = ~df['Department'].isin(exclude_list)\n",
    "\n",
    "#     # Combine masks and filter the DataFrame\n",
    "#     filtered_df = df[include_mask & exclude_mask]\n",
    "\n",
    "#     return filtered_df\n",
    "\n",
    "# filter(test_results, True, False, True, \"dsc\", \"poli\")"
   ]
  },
  {
   "cell_type": "code",
   "execution_count": 17,
   "metadata": {},
   "outputs": [],
   "source": [
    "def embedding_search(query):\n",
    "    \"\"\"\n",
    "    Performs a search on embeddings (only can do one field at a time)\n",
    "    \"\"\"\n",
    "    model = SentenceTransformer('sentence-transformers/msmarco-distilbert-base-v4')\n",
    "    query_array = model.encode(query).tolist()\n",
    "    \n",
    "    description_search_query = {\n",
    "        \"size\": 10,  # Number of results to return\n",
    "        \"knn\": {\n",
    "            \"field\": \"Description Embeddings\",  \n",
    "            \"query_vector\": query_array,\n",
    "            \"k\": 10,  # Number of nearest neighbors to retrieve\n",
    "            \"num_candidates\": 8000  # Number of candidate hits the search will examine\n",
    "        }\n",
    "    }\n",
    "\n",
    "    title_search_query = {\n",
    "        \"size\": 10,  # Number of results to return\n",
    "        \"knn\": {\n",
    "            \"field\": \"Title Embeddings\",  \n",
    "            \"query_vector\": query_array,\n",
    "            \"k\": 10,  # Number of nearest neighbors to retrieve\n",
    "            \"num_candidates\": 8000  # Number of candidate hits the search will examine\n",
    "        }\n",
    "    }\n",
    "    \n",
    "    desc_response = es.search(index=\"courses\", body=description_search_query)\n",
    "    title_response = es.search(index=\"courses\", body=title_search_query)\n",
    "\n",
    "    # combined_results = desc_response['hits']['hits'] + title_response['hits']['hits']\n",
    "    \n",
    "    # results = []\n",
    "    # for result in combined_results:\n",
    "    #     row = result['_source']\n",
    "    #     results.append((row['Code'], row['Title'], result['_score']))\n",
    "\n",
    "    results = []\n",
    "    for response in [desc_response, title_response]:\n",
    "        for hit in response['hits']['hits']:\n",
    "            row = hit['_source']\n",
    "            results.append((row['Code'], row['Title'], hit['_score']))\n",
    "        results.append('-------------------------------------')\n",
    "   \n",
    "    return results\n"
   ]
  },
  {
   "cell_type": "code",
   "execution_count": 18,
   "metadata": {},
   "outputs": [
    {
     "data": {
      "text/plain": [
       "{'Code': ['DSC 298R',\n",
       "  'DSE 260',\n",
       "  'FMPH 495',\n",
       "  'SIOC 296',\n",
       "  'FMPH 499',\n",
       "  'COGS 108',\n",
       "  'DSC 80',\n",
       "  'GPEC 447',\n",
       "  'DSC 599',\n",
       "  'CHEM 188']}"
      ]
     },
     "execution_count": 18,
     "metadata": {},
     "output_type": "execute_result"
    }
   ],
   "source": [
    "# es_search('data science capstone')"
   ]
  },
  {
   "cell_type": "code",
   "execution_count": 19,
   "metadata": {},
   "outputs": [
    {
     "name": "stderr",
     "output_type": "stream",
     "text": [
      "c:\\Users\\misaf\\ucsd_course_search\\venv\\Lib\\site-packages\\torch\\_utils.py:831: UserWarning: TypedStorage is deprecated. It will be removed in the future and UntypedStorage will be the only storage class. This should only matter to you if you are using storages directly.  To access UntypedStorage directly, use tensor.untyped_storage() instead of tensor.storage()\n",
      "  return self.fget.__get__(instance, owner)()\n"
     ]
    },
    {
     "data": {
      "text/plain": [
       "[('POLI 270', 'Mathematical and Statistical Foundations', 0.73850524),\n",
       " ('PHYS 2A', 'Physics—Mechanics', 0.7245373),\n",
       " ('PHYS 2AR', 'Physics—Mechanics (distance education)', 0.72253084),\n",
       " ('ECON 280', 'Computation', 0.72087157),\n",
       " ('ECON 205', 'Mathematics for Economists', 0.71879166),\n",
       " ('MATH 103A', 'Modern Algebra I', 0.717171),\n",
       " ('MATH 142B', 'Introduction to Analysis II', 0.7144685),\n",
       " ('MATH 3B', 'Foundations of Precalculus', 0.7086526),\n",
       " ('MATH 110', 'Introduction to Partial Differential Equations', 0.70828575),\n",
       " ('MATH 10B', 'Calculus II', 0.70151496),\n",
       " '-------------------------------------',\n",
       " ('SIOC 203A', 'Introduction to Applied Mathematics I', 0.84996086),\n",
       " ('PHIL 10', 'Introduction to Logic', 0.8465594),\n",
       " ('MAE 294A', 'Introduction to Applied Mathematics', 0.8461771),\n",
       " ('MATH 10A', 'Calculus I', 0.84524536),\n",
       " ('MATH 20D', 'Introduction to Differential Equations', 0.8412711),\n",
       " ('MATH 2', 'Introduction to College Mathematics', 0.8373743),\n",
       " ('MATH 11',\n",
       "  'Calculus-Based Introductory Probability and Statistics',\n",
       "  0.837178),\n",
       " ('MATH 106', 'Introduction to Algebraic Geometry', 0.8290868),\n",
       " ('MATH 110', 'Introduction to Partial Differential Equations', 0.8264883),\n",
       " ('COGS 18', 'Introduction to Python', 0.82192814),\n",
       " '-------------------------------------']"
      ]
     },
     "execution_count": 19,
     "metadata": {},
     "output_type": "execute_result"
    }
   ],
   "source": [
    "embedding_search('introduction to calculus')"
   ]
  },
  {
   "cell_type": "code",
   "execution_count": 20,
   "metadata": {},
   "outputs": [
    {
     "data": {
      "text/plain": [
       "[('ECON 109', 'Game Theory', 0.823559),\n",
       " ('POLI 100U', 'Games, Strategy, and Politics', 0.82306385),\n",
       " ('ECON 208', 'Games and Information', 0.8096264),\n",
       " ('POLI 203A', 'Analytic Theory I', 0.7998295),\n",
       " ('POLI 203B', 'Analytic Theory II', 0.7922381),\n",
       " ('POLI 118', 'Game Theory in Political Science', 0.7833301),\n",
       " ('POLI 205', 'Game Theory II', 0.771317),\n",
       " ('ECON 262', 'Behavioral Game Theory', 0.7551508),\n",
       " ('POLI 204C', 'Game Theory 1', 0.73355067),\n",
       " ('POLI 211', 'Formal Models in Political Theory', 0.7028576),\n",
       " '-------------------------------------',\n",
       " ('ECON 109', 'Game Theory', 0.99999994),\n",
       " ('POLI 204C', 'Game Theory 1', 0.97212493),\n",
       " ('POLI 118', 'Game Theory in Political Science', 0.9246417),\n",
       " ('ECON 262', 'Behavioral Game Theory', 0.8475761),\n",
       " ('ECON 109T', 'Advanced Topics in Game Theory', 0.82947564),\n",
       " ('POLI 205', 'Game Theory II', 0.81930065),\n",
       " ('COGR 239', 'Computer Game Studies', 0.78623635),\n",
       " ('POLI 100U', 'Games, Strategy, and Politics', 0.7699954),\n",
       " ('ECON 208', 'Games and Information', 0.7568374),\n",
       " ('BGGN 272', 'Learning Theories', 0.7415802),\n",
       " '-------------------------------------']"
      ]
     },
     "execution_count": 20,
     "metadata": {},
     "output_type": "execute_result"
    }
   ],
   "source": [
    "embedding_search('game theory')"
   ]
  },
  {
   "cell_type": "code",
   "execution_count": 21,
   "metadata": {},
   "outputs": [
    {
     "data": {
      "text/plain": [
       "[('VIS 142', 'Practices in Computing Arts', 0.76777357),\n",
       " ('VIS 159', 'History of Art and Technology', 0.7421306),\n",
       " ('VIS 149', 'Seminar in Contemporary Computer Topics', 0.72628015),\n",
       " ('VIS 10', 'Computing in the Arts Lecture Series', 0.7215397),\n",
       " ('CSE 272', 'Advanced Image Synthesis', 0.71468794),\n",
       " ('CSE 274', 'Selected Topics in Graphics', 0.703153),\n",
       " ('VIS 147A', 'Electronic Technologies for Art I', 0.6988392),\n",
       " ('CSE 152B', 'Introduction to Computer Vision II', 0.6959293),\n",
       " ('CSE 163', 'Advanced Computer Graphics', 0.69464904),\n",
       " ('MUS 171', 'Computer Music I', 0.6830322),\n",
       " '-------------------------------------',\n",
       " ('CSE 169', 'Computer Animation', 0.85925657),\n",
       " ('VIS 141A', 'Computer Programming for the Arts I', 0.8318141),\n",
       " ('CSE 167', 'Computer Graphics', 0.8307047),\n",
       " ('MAE 291', 'Design and Mechanics in Computer Technology', 0.7837784),\n",
       " ('VIS 141B', 'Computer Programming for the Arts II', 0.7710541),\n",
       " ('ECE 30', 'Introduction to Computer Engineering', 0.76057684),\n",
       " ('CSE 193', 'Introduction to Computer Science Research', 0.7565378),\n",
       " ('MUS 171', 'Computer Music I', 0.75460184),\n",
       " ('CSE 252A', 'Computer Vision I', 0.7481793),\n",
       " ('VIS 142', 'Practices in Computing Arts', 0.7473352),\n",
       " '-------------------------------------']"
      ]
     },
     "execution_count": 21,
     "metadata": {},
     "output_type": "execute_result"
    }
   ],
   "source": [
    "embedding_search('computer art')"
   ]
  }
 ],
 "metadata": {
  "kernelspec": {
   "display_name": "Python 3 (ipykernel)",
   "language": "python",
   "name": "python3"
  },
  "language_info": {
   "codemirror_mode": {
    "name": "ipython",
    "version": 3
   },
   "file_extension": ".py",
   "mimetype": "text/x-python",
   "name": "python",
   "nbconvert_exporter": "python",
   "pygments_lexer": "ipython3",
   "version": "3.9.7"
  }
 },
 "nbformat": 4,
 "nbformat_minor": 2
}
