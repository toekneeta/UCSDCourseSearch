{
 "cells": [
  {
   "cell_type": "code",
   "execution_count": 1,
   "metadata": {},
   "outputs": [],
   "source": [
    "import pandas as pd\n",
    "import numpy as np\n",
    "# from sentence_transformers import SentenceTransformer\n",
    "from elasticsearch import Elasticsearch\n",
    "from elasticsearch.helpers import bulk"
   ]
  },
  {
   "cell_type": "markdown",
   "metadata": {},
   "source": [
    "## Step 0: Load Data"
   ]
  },
  {
   "cell_type": "code",
   "execution_count": 3,
   "metadata": {},
   "outputs": [
    {
     "data": {
      "text/html": [
       "<div>\n",
       "<style scoped>\n",
       "    .dataframe tbody tr th:only-of-type {\n",
       "        vertical-align: middle;\n",
       "    }\n",
       "\n",
       "    .dataframe tbody tr th {\n",
       "        vertical-align: top;\n",
       "    }\n",
       "\n",
       "    .dataframe thead th {\n",
       "        text-align: right;\n",
       "    }\n",
       "</style>\n",
       "<table border=\"1\" class=\"dataframe\">\n",
       "  <thead>\n",
       "    <tr style=\"text-align: right;\">\n",
       "      <th></th>\n",
       "      <th>Code</th>\n",
       "      <th>Department</th>\n",
       "      <th>Title</th>\n",
       "      <th>Units</th>\n",
       "      <th>Description</th>\n",
       "      <th>Prerequisites</th>\n",
       "      <th>Level</th>\n",
       "      <th>URL</th>\n",
       "      <th>Description Embeddings</th>\n",
       "      <th>Title Embeddings</th>\n",
       "    </tr>\n",
       "  </thead>\n",
       "  <tbody>\n",
       "    <tr>\n",
       "      <th>0</th>\n",
       "      <td>AIP 97</td>\n",
       "      <td>AIP</td>\n",
       "      <td>Academic Internship</td>\n",
       "      <td>2, 4</td>\n",
       "      <td>Individual placements for field learning. Must...</td>\n",
       "      <td>lower-division standing, completion of thirty ...</td>\n",
       "      <td>Lower Division</td>\n",
       "      <td>https://cape.ucsd.edu/responses/Results.aspx?N...</td>\n",
       "      <td>[tensor(-0.1893), tensor(0.4135), tensor(-0.14...</td>\n",
       "      <td>[tensor(0.1341), tensor(0.0716), tensor(-0.119...</td>\n",
       "    </tr>\n",
       "    <tr>\n",
       "      <th>1</th>\n",
       "      <td>AIP 197</td>\n",
       "      <td>AIP</td>\n",
       "      <td>Academic Internship Program</td>\n",
       "      <td>2, 4, 6, 8, 10, 12</td>\n",
       "      <td>Individual internship placements integrated wi...</td>\n",
       "      <td>upper-division standing; department approval.</td>\n",
       "      <td>Upper Division</td>\n",
       "      <td>https://cape.ucsd.edu/responses/Results.aspx?N...</td>\n",
       "      <td>[tensor(-0.2007), tensor(0.4261), tensor(0.143...</td>\n",
       "      <td>[tensor(0.0525), tensor(0.3550), tensor(-0.113...</td>\n",
       "    </tr>\n",
       "    <tr>\n",
       "      <th>2</th>\n",
       "      <td>AIP 197DC</td>\n",
       "      <td>AIP</td>\n",
       "      <td>UCDC: Washington, DC Internship</td>\n",
       "      <td>6, 8, 10</td>\n",
       "      <td>This internship is attached to the University ...</td>\n",
       "      <td>upper-division standing; department approval.</td>\n",
       "      <td>Upper Division</td>\n",
       "      <td>https://cape.ucsd.edu/responses/Results.aspx?N...</td>\n",
       "      <td>[tensor(-0.0163), tensor(0.5243), tensor(-0.14...</td>\n",
       "      <td>[tensor(-0.2652), tensor(0.4275), tensor(-0.41...</td>\n",
       "    </tr>\n",
       "    <tr>\n",
       "      <th>3</th>\n",
       "      <td>AIP 197P</td>\n",
       "      <td>AIP</td>\n",
       "      <td>Public Service Internship</td>\n",
       "      <td>4, 8, 12</td>\n",
       "      <td>Individual placements for field learning perfo...</td>\n",
       "      <td>ninety units completed; 2.5 minimum cumulative...</td>\n",
       "      <td>Upper Division</td>\n",
       "      <td>https://cape.ucsd.edu/responses/Results.aspx?N...</td>\n",
       "      <td>[tensor(0.5637), tensor(0.1932), tensor(-0.447...</td>\n",
       "      <td>[tensor(0.2329), tensor(0.0559), tensor(-0.580...</td>\n",
       "    </tr>\n",
       "    <tr>\n",
       "      <th>4</th>\n",
       "      <td>AIP 197T</td>\n",
       "      <td>AIP</td>\n",
       "      <td>Academic Internship Program—Special Programs</td>\n",
       "      <td>2</td>\n",
       "      <td>Individual placements for field learning assoc...</td>\n",
       "      <td>ninety units minimum completed; 2.5 minimum cu...</td>\n",
       "      <td>Upper Division</td>\n",
       "      <td>https://cape.ucsd.edu/responses/Results.aspx?N...</td>\n",
       "      <td>[tensor(-0.1039), tensor(0.4214), tensor(-0.43...</td>\n",
       "      <td>[tensor(0.2310), tensor(-0.0024), tensor(-0.41...</td>\n",
       "    </tr>\n",
       "  </tbody>\n",
       "</table>\n",
       "</div>"
      ],
      "text/plain": [
       "        Code Department                                         Title  \\\n",
       "0     AIP 97        AIP                           Academic Internship   \n",
       "1    AIP 197        AIP                   Academic Internship Program   \n",
       "2  AIP 197DC        AIP               UCDC: Washington, DC Internship   \n",
       "3   AIP 197P        AIP                     Public Service Internship   \n",
       "4   AIP 197T        AIP  Academic Internship Program—Special Programs   \n",
       "\n",
       "                Units                                        Description  \\\n",
       "0                2, 4  Individual placements for field learning. Must...   \n",
       "1  2, 4, 6, 8, 10, 12  Individual internship placements integrated wi...   \n",
       "2            6, 8, 10  This internship is attached to the University ...   \n",
       "3            4, 8, 12  Individual placements for field learning perfo...   \n",
       "4                   2  Individual placements for field learning assoc...   \n",
       "\n",
       "                                       Prerequisites           Level  \\\n",
       "0  lower-division standing, completion of thirty ...  Lower Division   \n",
       "1      upper-division standing; department approval.  Upper Division   \n",
       "2      upper-division standing; department approval.  Upper Division   \n",
       "3  ninety units completed; 2.5 minimum cumulative...  Upper Division   \n",
       "4  ninety units minimum completed; 2.5 minimum cu...  Upper Division   \n",
       "\n",
       "                                                 URL  \\\n",
       "0  https://cape.ucsd.edu/responses/Results.aspx?N...   \n",
       "1  https://cape.ucsd.edu/responses/Results.aspx?N...   \n",
       "2  https://cape.ucsd.edu/responses/Results.aspx?N...   \n",
       "3  https://cape.ucsd.edu/responses/Results.aspx?N...   \n",
       "4  https://cape.ucsd.edu/responses/Results.aspx?N...   \n",
       "\n",
       "                              Description Embeddings  \\\n",
       "0  [tensor(-0.1893), tensor(0.4135), tensor(-0.14...   \n",
       "1  [tensor(-0.2007), tensor(0.4261), tensor(0.143...   \n",
       "2  [tensor(-0.0163), tensor(0.5243), tensor(-0.14...   \n",
       "3  [tensor(0.5637), tensor(0.1932), tensor(-0.447...   \n",
       "4  [tensor(-0.1039), tensor(0.4214), tensor(-0.43...   \n",
       "\n",
       "                                    Title Embeddings  \n",
       "0  [tensor(0.1341), tensor(0.0716), tensor(-0.119...  \n",
       "1  [tensor(0.0525), tensor(0.3550), tensor(-0.113...  \n",
       "2  [tensor(-0.2652), tensor(0.4275), tensor(-0.41...  \n",
       "3  [tensor(0.2329), tensor(0.0559), tensor(-0.580...  \n",
       "4  [tensor(0.2310), tensor(-0.0024), tensor(-0.41...  "
      ]
     },
     "execution_count": 3,
     "metadata": {},
     "output_type": "execute_result"
    }
   ],
   "source": [
    "course_info = pd.read_pickle('../data/course_catalog_with_embeddings.pkl')\n",
    "# first column unneeded\n",
    "# course_info = course_info.drop(course_info.columns[0], axis=1)\n",
    "course_info.head()"
   ]
  },
  {
   "cell_type": "code",
   "execution_count": null,
   "metadata": {},
   "outputs": [],
   "source": [
    "# Elasticsearch will not take tensors\n",
    "course_info['Title Embeddings'] = course_info['Title Embeddings'].apply(lambda x: x.tolist())\n",
    "course_info['Description Embeddings'] = course_info['Description Embeddings'].apply(lambda x: x.tolist())\n"
   ]
  },
  {
   "cell_type": "code",
   "execution_count": null,
   "metadata": {},
   "outputs": [],
   "source": [
    "course_info.head()"
   ]
  },
  {
   "cell_type": "code",
   "execution_count": null,
   "metadata": {},
   "outputs": [],
   "source": [
    "# course_info = course_info.astype(str)\n",
    "# course_info = course_info.drop_duplicates()"
   ]
  },
  {
   "cell_type": "markdown",
   "metadata": {},
   "source": [
    "## Step 1: Set up Elasticsearch"
   ]
  },
  {
   "cell_type": "code",
   "execution_count": 6,
   "metadata": {},
   "outputs": [
    {
     "data": {
      "text/plain": [
       "{'name': '5b7bad3897c1',\n",
       " 'cluster_name': 'docker-cluster',\n",
       " 'cluster_uuid': 'okw4nkaNQDCUaCqDEKyQPQ',\n",
       " 'version': {'number': '8.7.0',\n",
       "  'build_flavor': 'default',\n",
       "  'build_type': 'docker',\n",
       "  'build_hash': '09520b59b6bc1057340b55750186466ea715e30e',\n",
       "  'build_date': '2023-03-27T16:31:09.816451435Z',\n",
       "  'build_snapshot': False,\n",
       "  'lucene_version': '9.5.0',\n",
       "  'minimum_wire_compatibility_version': '7.17.0',\n",
       "  'minimum_index_compatibility_version': '7.0.0'},\n",
       " 'tagline': 'You Know, for Search'}"
      ]
     },
     "execution_count": 6,
     "metadata": {},
     "output_type": "execute_result"
    }
   ],
   "source": [
    "es = Elasticsearch(\"http://localhost:9200\")\n",
    "es.info().body"
   ]
  },
  {
   "cell_type": "code",
   "execution_count": 7,
   "metadata": {},
   "outputs": [],
   "source": [
    "# creating mappings \n",
    "mappings = {\n",
    "    \"properties\": {\n",
    "        'Code': {\"type\": \"text\"}, \n",
    "        'Department': {\"type\": \"keyword\"}, \n",
    "        'Title': {\"type\": \"text\"}, \n",
    "        'Units': {\"type\": \"text\"}, \n",
    "        'Description': {\"type\": \"text\"}, \n",
    "        'Prerequisites': {\"type\": \"text\"}, \n",
    "        'Level': {\"type\": \"keyword\"}, \n",
    "        'URL': {\"type\": \"text\"}, \n",
    "        # 'Description Embeddings':{'type': 'dense_vector', 'dims':768, \"index\":True, \"similarity\":\"cosine\"},\n",
    "        # 'Title Embeddings':{'type': 'dense_vector', 'dims':768, \"index\":True, \"similarity\":\"cosine\"},\n",
    "    }\n",
    "}"
   ]
  },
  {
   "cell_type": "code",
   "execution_count": 8,
   "metadata": {},
   "outputs": [],
   "source": [
    "try:\n",
    "    es.indices.create(index=\"courses\", mappings=mappings)\n",
    "except:\n",
    "    print('passed')\n",
    "    pass"
   ]
  },
  {
   "cell_type": "markdown",
   "metadata": {},
   "source": [
    "## Step 2: Adding Data into ElasticSearch"
   ]
  },
  {
   "cell_type": "code",
   "execution_count": 9,
   "metadata": {},
   "outputs": [
    {
     "data": {
      "text/plain": [
       "(7169, [])"
      ]
     },
     "execution_count": 9,
     "metadata": {},
     "output_type": "execute_result"
    }
   ],
   "source": [
    "# Creating a list of dictionaries with all the data to be added in to the ElasticSearch index\n",
    "bulk_data = []\n",
    "for i, row in course_info.iterrows():\n",
    "    bulk_data.append(\n",
    "        {\n",
    "            \"_index\": \"courses\",\n",
    "            \"_id\": i,\n",
    "            \"_source\": {\n",
    "                \"Code\": row['Code'],\n",
    "                'Department': row['Department'], \n",
    "                'Title': row['Title'], \n",
    "                'Units': row['Units'], \n",
    "                'Description': row['Description'], \n",
    "                'Prerequisites': row['Prerequisites'],\n",
    "                'Level':row['Level'],\n",
    "                'URL':row['URL'],\n",
    "                # 'Description Embeddings': row['Description Embeddings'],\n",
    "                # 'Title Embeddings':row['Title Embeddings'],\n",
    "            }\n",
    "        }\n",
    "    )\n",
    "\n",
    "bulk(es, bulk_data)"
   ]
  },
  {
   "cell_type": "code",
   "execution_count": 10,
   "metadata": {},
   "outputs": [
    {
     "data": {
      "text/plain": [
       "ListApiResponse([{'epoch': '1709155990', 'timestamp': '21:33:10', 'count': '7169'}])"
      ]
     },
     "execution_count": 10,
     "metadata": {},
     "output_type": "execute_result"
    }
   ],
   "source": [
    "# verifying that all data has been read into the python index properly\n",
    "es.indices.refresh(index=\"courses\")\n",
    "es.cat.count(index=\"courses\", format=\"json\")"
   ]
  },
  {
   "cell_type": "markdown",
   "metadata": {},
   "source": [
    "## Step 3: Performing Search"
   ]
  },
  {
   "cell_type": "code",
   "execution_count": 36,
   "metadata": {},
   "outputs": [],
   "source": [
    "def es_search(query, upperdiv=True, lowerdiv=True, graduate=True, include='', exclude='', k=10):\n",
    "    # Build the query\n",
    "    must_clauses = [{\n",
    "        \"query_string\": {\n",
    "            \"query\": query,\n",
    "            \"fields\": [\n",
    "                'Code',\n",
    "                'Department',\n",
    "                'Title',\n",
    "                'Description',\n",
    "                'Prerequisites',\n",
    "                'Level'\n",
    "            ],\n",
    "            \"phrase_slop\": 2\n",
    "        }\n",
    "    }]\n",
    "\n",
    "    # Process include and exclude lists\n",
    "    include_list = include.upper().replace(\" \", \"\").split(',')\n",
    "    exclude_list = exclude.upper().replace(\" \", \"\").split(',')\n",
    "\n",
    "    # Add department filters\n",
    "    if include_list != ['']:\n",
    "        must_clauses.append({\"terms\": {\"Department\": include_list}})\n",
    "    \n",
    "    must_not_clause = {\"terms\": {\"Department\": exclude_list}} if exclude_list != [''] else []\n",
    "\n",
    "\n",
    "    # Initialize the 'should' clause for class level filters\n",
    "    should_clauses = []\n",
    "    if upperdiv:\n",
    "        should_clauses.append({\"match\": {\"Level\": \"Upper Division\"}})\n",
    "    if lowerdiv:\n",
    "        should_clauses.append({\"match\": {\"Level\": \"Lower Division\"}})\n",
    "    if graduate:\n",
    "        should_clauses.append({\"match\": {\"Level\": \"Graduate\"}})\n",
    "\n",
    "    # Build the final query\n",
    "    es_query = {\n",
    "        \"query\": {\n",
    "            \"bool\": {\n",
    "                \"must\": must_clauses,\n",
    "                \"should\": should_clauses,\n",
    "                \"must_not\": must_not_clause,\n",
    "                # \"minimum_should_match\": 1 if should_clauses else 0\n",
    "            }\n",
    "        },\n",
    "        \"size\": k\n",
    "    }\n",
    "\n",
    "    response = es.search(index=\"courses\", body=es_query)\n",
    "    \n",
    "    results = []\n",
    "    for hit in response['hits']['hits']:\n",
    "        row = hit['_source']\n",
    "        results.append((row['Code'], row['Title'], row['Description']))\n",
    "        \n",
    "    return results\n"
   ]
  },
  {
   "cell_type": "code",
   "execution_count": 22,
   "metadata": {},
   "outputs": [],
   "source": [
    "# es_search('game theory', exclude=\"POLI\")"
   ]
  },
  {
   "cell_type": "code",
   "execution_count": null,
   "metadata": {},
   "outputs": [],
   "source": [
    "# test_results = {'Code':['DSC 100', 'DSC 80', 'DSC 10', \"DSC 200\",\"POLI 117\"]}\n",
    "\n",
    "# def filter(results, upperdiv, lowerdiv, graduate, include, exclude):\n",
    "#     df = pd.DataFrame(results).merge(course_info, on=\"Code\")\n",
    "\n",
    "#     if not upperdiv:\n",
    "#         df.drop(df.loc[df['Level']=='Upper Division'].index, inplace=True)\n",
    "\n",
    "#     if not lowerdiv:\n",
    "#         df.drop(df.loc[df['Level']=='Lower Division'].index, inplace=True)\n",
    "\n",
    "#     if not graduate:\n",
    "#         df.drop(df.loc[df['Level']=='Graduate'].index, inplace=True)\n",
    "\n",
    "#     # pre-processing of include and exlude\n",
    "#     include_list = include.upper().upper().replace(\" \", \"\").split(',')\n",
    "#     exclude_list = exclude.upper().upper().replace(\" \", \"\").split(',')\n",
    "\n",
    "#     include_mask = df['Department'].isin(include_list)\n",
    "#     exclude_mask = ~df['Department'].isin(exclude_list)\n",
    "\n",
    "#     # Combine masks and filter the DataFrame\n",
    "#     filtered_df = df[include_mask & exclude_mask]\n",
    "\n",
    "#     return filtered_df\n",
    "\n",
    "# filter(test_results, True, False, True, \"dsc\", \"poli\")"
   ]
  },
  {
   "cell_type": "code",
   "execution_count": 17,
   "metadata": {},
   "outputs": [],
   "source": [
    "# def embedding_search(query):\n",
    "#     \"\"\"\n",
    "#     Performs a search on embeddings (only can do one field at a time)\n",
    "#     \"\"\"\n",
    "#     model = SentenceTransformer('sentence-transformers/msmarco-distilbert-base-v4')\n",
    "#     query_array = model.encode(query).tolist()\n",
    "    \n",
    "#     description_search_query = {\n",
    "#         \"size\": 10,  # Number of results to return\n",
    "#         \"knn\": {\n",
    "#             \"field\": \"Description Embeddings\",  \n",
    "#             \"query_vector\": query_array,\n",
    "#             \"k\": 10,  # Number of nearest neighbors to retrieve\n",
    "#             \"num_candidates\": 8000  # Number of candidate hits the search will examine\n",
    "#         }\n",
    "#     }\n",
    "\n",
    "#     title_search_query = {\n",
    "#         \"size\": 10,  # Number of results to return\n",
    "#         \"knn\": {\n",
    "#             \"field\": \"Title Embeddings\",  \n",
    "#             \"query_vector\": query_array,\n",
    "#             \"k\": 10,  # Number of nearest neighbors to retrieve\n",
    "#             \"num_candidates\": 8000  # Number of candidate hits the search will examine\n",
    "#         }\n",
    "#     }\n",
    "    \n",
    "#     desc_response = es.search(index=\"courses\", body=description_search_query)\n",
    "#     title_response = es.search(index=\"courses\", body=title_search_query)\n",
    "\n",
    "#     # combined_results = desc_response['hits']['hits'] + title_response['hits']['hits']\n",
    "    \n",
    "#     # results = []\n",
    "#     # for result in combined_results:\n",
    "#     #     row = result['_source']\n",
    "#     #     results.append((row['Code'], row['Title'], result['_score']))\n",
    "\n",
    "#     results = []\n",
    "#     for response in [desc_response, title_response]:\n",
    "#         for hit in response['hits']['hits']:\n",
    "#             row = hit['_source']\n",
    "#             results.append((row['Code'], row['Title'], hit['_score']))\n",
    "#         results.append('-------------------------------------')\n",
    "   \n",
    "#     return results\n"
   ]
  },
  {
   "cell_type": "code",
   "execution_count": 13,
   "metadata": {},
   "outputs": [],
   "source": [
    "queries = [\"2d art\", \"accounting\", \"acting\", \"advance biological topics\", \"advanced machine learning methods\", \"ai\", \n",
    "          \"alcohol\", \"algae\", \"algebra\", \"algos\", \"analytics\", \"anbi\", \"animal\", \"aquarium\", \"archeology\", \"art\", \n",
    "          \"artificial intelligence\", \"asia\", \"astronomy\", \"audio\", \"autonomous vehicles\", \"bananas\", \"baseball\", \n",
    "          \"basket weaving\", \"bayes theorem\", \"beer\", \"beng\", \"biochemistry\", \"bioinformatics\", \"biology\", \"bird\", \n",
    "          \"black markets\", \"board games\", \"botany\", \"brain\", \"brawl stars\", \"bubble machine\", \"building vehicles\", \n",
    "          \"business\", \"chamber music\", \"city planning\", \"clout\", \"code\", \"coding\", \"coffee\", \"communication\", \n",
    "          \"composite\", \"computer\", \"computer science electives\", \"computer vision\", \"computing\", \"conservation\", \n",
    "          \"convolutional neural networks\", \"cook\", \"cooking\", \"course search engines\", \"covid 19\", \"creative writing\", \n",
    "          \"creativity\", \"credit\", \"credit cards\", \"cryptography\", \"culture\", \"cum\", \"cystic\", \"cystic fibrosis\", \n",
    "          \"dance\", \"data science capstone\", \"data science ethics\", \"data science project\", \"data science theory\", \n",
    "          \"data science topics\", \"data structures\", \"data visualization\", \"database\", \"deep learning\", \"definite integrals\", \n",
    "          \"demon\", \"design\", \"digital design\", \"digital photography\", \"disability\", \"dog\", \"downsides of social media\", \n",
    "          \"drawing\", \"drugs\", \"economics\", \"electrical engineering\", \"electrodynamics\", \"electromagnetism\", \"engineering\", \n",
    "          \"enviornmental engineering\", \"ethics of social media\", \"exercise\", \"exploring the ocean\", \"fashion\", \"film\", \n",
    "          \"finance\", \"fish\", \"fisheries\", \"food\", \"football\", \"forensics\", \"forestry\", \"fortnite\", \"fourier analysis\", \n",
    "          \"game theory\", \"games\", \"gaming\", \"garden\", \"genetic\", \"genetic algorithm\", \"genetics\", \"glizzy\", \"herb\", \n",
    "          \"hiphop\", \"history\", \"history and engineering\", \"how the internet works\", \"how to build a website\", \n",
    "          \"how to buy a house\", \"how to teach kids computer science\", \"human biology\", \"human interaction\", \"ice cream\", \n",
    "          \"image processing\", \"information systems\", \"intensive writing\", \"interaction\", \"intro data science\", \n",
    "          \"intro to data science\", \"introduction to calculus\", \"islam\", \"japan\", \"japanese\", \"java\", \"javascript\", \"joke\", \n",
    "          \"kanye\", \"korean\", \"kubernetes\", \"l'hospital's rule\", \"language models\", \"large code bases\", \"latin\", \n",
    "          \"latin american history\", \"law\", \"learning sciences\", \"learning sign language\", \"lgbt\", \"linguistic\", \"llm\", \n",
    "          \"love\", \"machine\", \"machine learning\", \"makeup\", \"marine biology lab\", \"marketing\", \"matrix multiplication\", \n",
    "          \"meaders\", \"medical robotics\", \"medical school\", \"medicinal\", \"medicine\", \"meme\", \"mental health\", \"michelangelo\", \n",
    "          \"middle east\", \"modern architecture\", \"movie\", \"music\", \"nan\", \"national security\", \"native american literature\", \n",
    "          \"network\", \"neural networks\", \"neuroscience\", \"nlp\", \"nosql\", \"occult\", \"ocean\", \"ocean sensors\", \"operator algebra\", \n",
    "          \"optimization\", \"organic chemistry\", \"pain\", \"painting\", \"panda\", \"personal finances\", \"penis\", \"phage\", \n",
    "          \"pharmacology\", \"photoshop\", \"physics\", \"physiology\", \"pizza\", \"plant\", \"poisson\", \"pokemon\", \"poop\", \"pottery\", \n",
    "          \"projects\", \"python coding\", \"python for beginners\", \"pythons\", \"quantitative finance\", \"racism\", \"real estate\",\n",
    "            \"recommender systems\", \"remote\", \"research communication\", \"robotics\", \"saxophone\", \"science writing\",\n",
    "            \"semantic search\", \"semantics\", \"seminar\", \"sex\", \"sixth general education\", \"skincare\", \"snakes\", \"social media\",\n",
    "            \"something with 2d\", \"sport\", \"sql\", \"stock trading\", \"storm water\", \"super bowl\", \"super computer\", \"supply chain\",\n",
    "            \"survival skills\", \"synthesis\", \"taxes\", \"teaching calculus\", \"transportation\", \n",
    "            \"ucsd course search\", \"ui and ux\", \"ups\", \"urban studies\", \"valentines day\", \"video game\",\n",
    "            \"video game creation\", \"video game design\", \"video games\", \"vietnam\", \"volleyball\",\n",
    "            \"wastewater\", \"website\", \"wine\", \"yoga\", \"youtube\", \"zoo\", \"zoology\"]"
   ]
  },
  {
   "cell_type": "code",
   "execution_count": 38,
   "metadata": {},
   "outputs": [
    {
     "ename": "BadRequestError",
     "evalue": "BadRequestError(400, 'search_phase_execution_exception', 'Failed to parse query [ui/ux]')",
     "output_type": "error",
     "traceback": [
      "\u001b[1;31m---------------------------------------------------------------------------\u001b[0m",
      "\u001b[1;31mBadRequestError\u001b[0m                           Traceback (most recent call last)",
      "Cell \u001b[1;32mIn[38], line 3\u001b[0m\n\u001b[0;32m      1\u001b[0m all_results\n\u001b[0;32m      2\u001b[0m \u001b[38;5;28;01mfor\u001b[39;00m q \u001b[38;5;129;01min\u001b[39;00m queries:\n\u001b[1;32m----> 3\u001b[0m     all_results \u001b[38;5;241m+\u001b[39m\u001b[38;5;241m=\u001b[39m \u001b[43mes_search\u001b[49m\u001b[43m(\u001b[49m\u001b[43mq\u001b[49m\u001b[43m,\u001b[49m\u001b[43m \u001b[49m\u001b[43mk\u001b[49m\u001b[38;5;241;43m=\u001b[39;49m\u001b[38;5;241;43m5\u001b[39;49m\u001b[43m)\u001b[49m\n",
      "Cell \u001b[1;32mIn[36], line 51\u001b[0m, in \u001b[0;36mes_search\u001b[1;34m(query, upperdiv, lowerdiv, graduate, include, exclude, k)\u001b[0m\n\u001b[0;32m     38\u001b[0m \u001b[38;5;66;03m# Build the final query\u001b[39;00m\n\u001b[0;32m     39\u001b[0m es_query \u001b[38;5;241m=\u001b[39m {\n\u001b[0;32m     40\u001b[0m     \u001b[38;5;124m\"\u001b[39m\u001b[38;5;124mquery\u001b[39m\u001b[38;5;124m\"\u001b[39m: {\n\u001b[0;32m     41\u001b[0m         \u001b[38;5;124m\"\u001b[39m\u001b[38;5;124mbool\u001b[39m\u001b[38;5;124m\"\u001b[39m: {\n\u001b[1;32m   (...)\u001b[0m\n\u001b[0;32m     48\u001b[0m     \u001b[38;5;124m\"\u001b[39m\u001b[38;5;124msize\u001b[39m\u001b[38;5;124m\"\u001b[39m: k\n\u001b[0;32m     49\u001b[0m }\n\u001b[1;32m---> 51\u001b[0m response \u001b[38;5;241m=\u001b[39m \u001b[43mes\u001b[49m\u001b[38;5;241;43m.\u001b[39;49m\u001b[43msearch\u001b[49m\u001b[43m(\u001b[49m\u001b[43mindex\u001b[49m\u001b[38;5;241;43m=\u001b[39;49m\u001b[38;5;124;43m\"\u001b[39;49m\u001b[38;5;124;43mcourses\u001b[39;49m\u001b[38;5;124;43m\"\u001b[39;49m\u001b[43m,\u001b[49m\u001b[43m \u001b[49m\u001b[43mbody\u001b[49m\u001b[38;5;241;43m=\u001b[39;49m\u001b[43mes_query\u001b[49m\u001b[43m)\u001b[49m\n\u001b[0;32m     53\u001b[0m results \u001b[38;5;241m=\u001b[39m []\n\u001b[0;32m     54\u001b[0m \u001b[38;5;28;01mfor\u001b[39;00m hit \u001b[38;5;129;01min\u001b[39;00m response[\u001b[38;5;124m'\u001b[39m\u001b[38;5;124mhits\u001b[39m\u001b[38;5;124m'\u001b[39m][\u001b[38;5;124m'\u001b[39m\u001b[38;5;124mhits\u001b[39m\u001b[38;5;124m'\u001b[39m]:\n",
      "File \u001b[1;32mc:\\Users\\misaf\\anaconda3\\Lib\\site-packages\\elasticsearch\\_sync\\client\\utils.py:426\u001b[0m, in \u001b[0;36m_rewrite_parameters.<locals>.wrapper.<locals>.wrapped\u001b[1;34m(*args, **kwargs)\u001b[0m\n\u001b[0;32m    423\u001b[0m         \u001b[38;5;28;01mexcept\u001b[39;00m \u001b[38;5;167;01mKeyError\u001b[39;00m:\n\u001b[0;32m    424\u001b[0m             \u001b[38;5;28;01mpass\u001b[39;00m\n\u001b[1;32m--> 426\u001b[0m \u001b[38;5;28;01mreturn\u001b[39;00m \u001b[43mapi\u001b[49m\u001b[43m(\u001b[49m\u001b[38;5;241;43m*\u001b[39;49m\u001b[43margs\u001b[49m\u001b[43m,\u001b[49m\u001b[43m \u001b[49m\u001b[38;5;241;43m*\u001b[39;49m\u001b[38;5;241;43m*\u001b[39;49m\u001b[43mkwargs\u001b[49m\u001b[43m)\u001b[49m\n",
      "File \u001b[1;32mc:\\Users\\misaf\\anaconda3\\Lib\\site-packages\\elasticsearch\\_sync\\client\\__init__.py:3836\u001b[0m, in \u001b[0;36mElasticsearch.search\u001b[1;34m(self, index, aggregations, aggs, allow_no_indices, allow_partial_search_results, analyze_wildcard, analyzer, batched_reduce_size, ccs_minimize_roundtrips, collapse, default_operator, df, docvalue_fields, error_trace, expand_wildcards, explain, ext, fields, filter_path, from_, highlight, human, ignore_throttled, ignore_unavailable, indices_boost, knn, lenient, max_concurrent_shard_requests, min_compatible_shard_node, min_score, pit, post_filter, pre_filter_shard_size, preference, pretty, profile, q, query, rank, request_cache, rescore, rest_total_hits_as_int, routing, runtime_mappings, script_fields, scroll, search_after, search_type, seq_no_primary_term, size, slice, sort, source, source_excludes, source_includes, stats, stored_fields, suggest, suggest_field, suggest_mode, suggest_size, suggest_text, terminate_after, timeout, track_scores, track_total_hits, typed_keys, version, body)\u001b[0m\n\u001b[0;32m   3834\u001b[0m \u001b[38;5;28;01mif\u001b[39;00m __body \u001b[38;5;129;01mis\u001b[39;00m \u001b[38;5;129;01mnot\u001b[39;00m \u001b[38;5;28;01mNone\u001b[39;00m:\n\u001b[0;32m   3835\u001b[0m     __headers[\u001b[38;5;124m\"\u001b[39m\u001b[38;5;124mcontent-type\u001b[39m\u001b[38;5;124m\"\u001b[39m] \u001b[38;5;241m=\u001b[39m \u001b[38;5;124m\"\u001b[39m\u001b[38;5;124mapplication/json\u001b[39m\u001b[38;5;124m\"\u001b[39m\n\u001b[1;32m-> 3836\u001b[0m \u001b[38;5;28;01mreturn\u001b[39;00m \u001b[38;5;28;43mself\u001b[39;49m\u001b[38;5;241;43m.\u001b[39;49m\u001b[43mperform_request\u001b[49m\u001b[43m(\u001b[49m\u001b[43m  \u001b[49m\u001b[38;5;66;43;03m# type: ignore[return-value]\u001b[39;49;00m\n\u001b[0;32m   3837\u001b[0m \u001b[43m    \u001b[49m\u001b[38;5;124;43m\"\u001b[39;49m\u001b[38;5;124;43mPOST\u001b[39;49m\u001b[38;5;124;43m\"\u001b[39;49m\u001b[43m,\u001b[49m\u001b[43m \u001b[49m\u001b[43m__path\u001b[49m\u001b[43m,\u001b[49m\u001b[43m \u001b[49m\u001b[43mparams\u001b[49m\u001b[38;5;241;43m=\u001b[39;49m\u001b[43m__query\u001b[49m\u001b[43m,\u001b[49m\u001b[43m \u001b[49m\u001b[43mheaders\u001b[49m\u001b[38;5;241;43m=\u001b[39;49m\u001b[43m__headers\u001b[49m\u001b[43m,\u001b[49m\u001b[43m \u001b[49m\u001b[43mbody\u001b[49m\u001b[38;5;241;43m=\u001b[39;49m\u001b[43m__body\u001b[49m\n\u001b[0;32m   3838\u001b[0m \u001b[43m\u001b[49m\u001b[43m)\u001b[49m\n",
      "File \u001b[1;32mc:\\Users\\misaf\\anaconda3\\Lib\\site-packages\\elasticsearch\\_sync\\client\\_base.py:320\u001b[0m, in \u001b[0;36mBaseClient.perform_request\u001b[1;34m(self, method, path, params, headers, body)\u001b[0m\n\u001b[0;32m    317\u001b[0m         \u001b[38;5;28;01mexcept\u001b[39;00m (\u001b[38;5;167;01mValueError\u001b[39;00m, \u001b[38;5;167;01mKeyError\u001b[39;00m, \u001b[38;5;167;01mTypeError\u001b[39;00m):\n\u001b[0;32m    318\u001b[0m             \u001b[38;5;28;01mpass\u001b[39;00m\n\u001b[1;32m--> 320\u001b[0m     \u001b[38;5;28;01mraise\u001b[39;00m HTTP_EXCEPTIONS\u001b[38;5;241m.\u001b[39mget(meta\u001b[38;5;241m.\u001b[39mstatus, ApiError)(\n\u001b[0;32m    321\u001b[0m         message\u001b[38;5;241m=\u001b[39mmessage, meta\u001b[38;5;241m=\u001b[39mmeta, body\u001b[38;5;241m=\u001b[39mresp_body\n\u001b[0;32m    322\u001b[0m     )\n\u001b[0;32m    324\u001b[0m \u001b[38;5;66;03m# 'X-Elastic-Product: Elasticsearch' should be on every 2XX response.\u001b[39;00m\n\u001b[0;32m    325\u001b[0m \u001b[38;5;28;01mif\u001b[39;00m \u001b[38;5;129;01mnot\u001b[39;00m \u001b[38;5;28mself\u001b[39m\u001b[38;5;241m.\u001b[39m_verified_elasticsearch:\n\u001b[0;32m    326\u001b[0m     \u001b[38;5;66;03m# If the header is set we mark the server as verified.\u001b[39;00m\n",
      "\u001b[1;31mBadRequestError\u001b[0m: BadRequestError(400, 'search_phase_execution_exception', 'Failed to parse query [ui/ux]')"
     ]
    }
   ],
   "source": [
    "all_results\n",
    "for q in queries:\n",
    "    all_results += es_search(q, k=5)"
   ]
  },
  {
   "cell_type": "code",
   "execution_count": null,
   "metadata": {},
   "outputs": [],
   "source": [
    "pd.DataFrame(all_results)"
   ]
  },
  {
   "cell_type": "code",
   "execution_count": 37,
   "metadata": {},
   "outputs": [
    {
     "data": {
      "text/plain": [
       "[('DSC 80',\n",
       "  'The Practice and Application of Data Science',\n",
       "  'The marriage of data, computation, and inferential thinking, or “data science,” is redefining how people and organizations solve challenging problems and understand the world. This course bridges lower- and upper-division data science courses as well as methods courses in other fields. Students master the data science life-cycle and learn many of the fundamental principles and techniques of data science spanning algorithms, statistics, machine learning, visualization, and data systems.'),\n",
       " ('DSC 95',\n",
       "  'Tutor Apprenticeship in Data Science',\n",
       "  'Students will receive training in skills and techniques necessary to be effective tutors for data science courses. Students will also gain practical experience in tutoring students on data science topics.'),\n",
       " ('COGS 108',\n",
       "  'Data Science in Practice',\n",
       "  'Data science is multidisciplinary, covering computer science, statistics, cognitive science and psychology, data visualization, artificial intelligence and machine learning, among others. This course teaches critical skills needed to pursue a data science career using hands-on programming and experimental challenges.'),\n",
       " ('GPEC 447',\n",
       "  'Data Science Approaches to Spatial Analysis',\n",
       "  'Course introduces spatial data science techniques and key applications. Students will learn the fundamentals of online mapping, spatial data management, and spatial data science, with practical experience with open source and commercial data science libraries using Python and Jupyter notebooks. Covers a range of topics, from finding and accessing data online to integrating data and assembling datasets, machine learning, and predictive analytics applications.'),\n",
       " ('COGS 9',\n",
       "  'Introduction to Data Science',\n",
       "  'Concepts of data and its role in science will be introduced, as well as the ideas behind data-mining, text-mining, machine learning, and graph theory, and how scientists and companies are leveraging those methods to uncover new insights into human cognition.'),\n",
       " ('ECE 222A',\n",
       "  'Antennas and Their System Applications',\n",
       "  'Antennas, waves, polarization. Friis transmission and Radar equations, dipoles, loops, slots, ground planes, traveling wave antennas, array theory, phased arrays, impedance, frequency independent antennas, microstrip antennas, cell phone antennas, system level implications such as MIMO, multi-beam and phased array systems. Recommended preparation: ECE 107 or an equivalent undergraduate course in electromagnetics.')]"
      ]
     },
     "execution_count": 37,
     "metadata": {},
     "output_type": "execute_result"
    }
   ],
   "source": [
    "all_results = []\n",
    "\n",
    "to_add = es_search('data science', k=5)\n",
    "all_results += to_add\n",
    "all_results += (es_search('planes', k=5))\n",
    "all_results"
   ]
  },
  {
   "cell_type": "code",
   "execution_count": 19,
   "metadata": {},
   "outputs": [
    {
     "name": "stderr",
     "output_type": "stream",
     "text": [
      "c:\\Users\\misaf\\ucsd_course_search\\venv\\Lib\\site-packages\\torch\\_utils.py:831: UserWarning: TypedStorage is deprecated. It will be removed in the future and UntypedStorage will be the only storage class. This should only matter to you if you are using storages directly.  To access UntypedStorage directly, use tensor.untyped_storage() instead of tensor.storage()\n",
      "  return self.fget.__get__(instance, owner)()\n"
     ]
    },
    {
     "data": {
      "text/plain": [
       "[('POLI 270', 'Mathematical and Statistical Foundations', 0.73850524),\n",
       " ('PHYS 2A', 'Physics—Mechanics', 0.7245373),\n",
       " ('PHYS 2AR', 'Physics—Mechanics (distance education)', 0.72253084),\n",
       " ('ECON 280', 'Computation', 0.72087157),\n",
       " ('ECON 205', 'Mathematics for Economists', 0.71879166),\n",
       " ('MATH 103A', 'Modern Algebra I', 0.717171),\n",
       " ('MATH 142B', 'Introduction to Analysis II', 0.7144685),\n",
       " ('MATH 3B', 'Foundations of Precalculus', 0.7086526),\n",
       " ('MATH 110', 'Introduction to Partial Differential Equations', 0.70828575),\n",
       " ('MATH 10B', 'Calculus II', 0.70151496),\n",
       " '-------------------------------------',\n",
       " ('SIOC 203A', 'Introduction to Applied Mathematics I', 0.84996086),\n",
       " ('PHIL 10', 'Introduction to Logic', 0.8465594),\n",
       " ('MAE 294A', 'Introduction to Applied Mathematics', 0.8461771),\n",
       " ('MATH 10A', 'Calculus I', 0.84524536),\n",
       " ('MATH 20D', 'Introduction to Differential Equations', 0.8412711),\n",
       " ('MATH 2', 'Introduction to College Mathematics', 0.8373743),\n",
       " ('MATH 11',\n",
       "  'Calculus-Based Introductory Probability and Statistics',\n",
       "  0.837178),\n",
       " ('MATH 106', 'Introduction to Algebraic Geometry', 0.8290868),\n",
       " ('MATH 110', 'Introduction to Partial Differential Equations', 0.8264883),\n",
       " ('COGS 18', 'Introduction to Python', 0.82192814),\n",
       " '-------------------------------------']"
      ]
     },
     "execution_count": 19,
     "metadata": {},
     "output_type": "execute_result"
    }
   ],
   "source": [
    "embedding_search('introduction to calculus')"
   ]
  },
  {
   "cell_type": "code",
   "execution_count": 20,
   "metadata": {},
   "outputs": [
    {
     "data": {
      "text/plain": [
       "[('ECON 109', 'Game Theory', 0.823559),\n",
       " ('POLI 100U', 'Games, Strategy, and Politics', 0.82306385),\n",
       " ('ECON 208', 'Games and Information', 0.8096264),\n",
       " ('POLI 203A', 'Analytic Theory I', 0.7998295),\n",
       " ('POLI 203B', 'Analytic Theory II', 0.7922381),\n",
       " ('POLI 118', 'Game Theory in Political Science', 0.7833301),\n",
       " ('POLI 205', 'Game Theory II', 0.771317),\n",
       " ('ECON 262', 'Behavioral Game Theory', 0.7551508),\n",
       " ('POLI 204C', 'Game Theory 1', 0.73355067),\n",
       " ('POLI 211', 'Formal Models in Political Theory', 0.7028576),\n",
       " '-------------------------------------',\n",
       " ('ECON 109', 'Game Theory', 0.99999994),\n",
       " ('POLI 204C', 'Game Theory 1', 0.97212493),\n",
       " ('POLI 118', 'Game Theory in Political Science', 0.9246417),\n",
       " ('ECON 262', 'Behavioral Game Theory', 0.8475761),\n",
       " ('ECON 109T', 'Advanced Topics in Game Theory', 0.82947564),\n",
       " ('POLI 205', 'Game Theory II', 0.81930065),\n",
       " ('COGR 239', 'Computer Game Studies', 0.78623635),\n",
       " ('POLI 100U', 'Games, Strategy, and Politics', 0.7699954),\n",
       " ('ECON 208', 'Games and Information', 0.7568374),\n",
       " ('BGGN 272', 'Learning Theories', 0.7415802),\n",
       " '-------------------------------------']"
      ]
     },
     "execution_count": 20,
     "metadata": {},
     "output_type": "execute_result"
    }
   ],
   "source": [
    "embedding_search('game theory')"
   ]
  },
  {
   "cell_type": "code",
   "execution_count": 21,
   "metadata": {},
   "outputs": [
    {
     "data": {
      "text/plain": [
       "[('VIS 142', 'Practices in Computing Arts', 0.76777357),\n",
       " ('VIS 159', 'History of Art and Technology', 0.7421306),\n",
       " ('VIS 149', 'Seminar in Contemporary Computer Topics', 0.72628015),\n",
       " ('VIS 10', 'Computing in the Arts Lecture Series', 0.7215397),\n",
       " ('CSE 272', 'Advanced Image Synthesis', 0.71468794),\n",
       " ('CSE 274', 'Selected Topics in Graphics', 0.703153),\n",
       " ('VIS 147A', 'Electronic Technologies for Art I', 0.6988392),\n",
       " ('CSE 152B', 'Introduction to Computer Vision II', 0.6959293),\n",
       " ('CSE 163', 'Advanced Computer Graphics', 0.69464904),\n",
       " ('MUS 171', 'Computer Music I', 0.6830322),\n",
       " '-------------------------------------',\n",
       " ('CSE 169', 'Computer Animation', 0.85925657),\n",
       " ('VIS 141A', 'Computer Programming for the Arts I', 0.8318141),\n",
       " ('CSE 167', 'Computer Graphics', 0.8307047),\n",
       " ('MAE 291', 'Design and Mechanics in Computer Technology', 0.7837784),\n",
       " ('VIS 141B', 'Computer Programming for the Arts II', 0.7710541),\n",
       " ('ECE 30', 'Introduction to Computer Engineering', 0.76057684),\n",
       " ('CSE 193', 'Introduction to Computer Science Research', 0.7565378),\n",
       " ('MUS 171', 'Computer Music I', 0.75460184),\n",
       " ('CSE 252A', 'Computer Vision I', 0.7481793),\n",
       " ('VIS 142', 'Practices in Computing Arts', 0.7473352),\n",
       " '-------------------------------------']"
      ]
     },
     "execution_count": 21,
     "metadata": {},
     "output_type": "execute_result"
    }
   ],
   "source": [
    "embedding_search('computer art')"
   ]
  }
 ],
 "metadata": {
  "kernelspec": {
   "display_name": "Python 3 (ipykernel)",
   "language": "python",
   "name": "python3"
  },
  "language_info": {
   "codemirror_mode": {
    "name": "ipython",
    "version": 3
   },
   "file_extension": ".py",
   "mimetype": "text/x-python",
   "name": "python",
   "nbconvert_exporter": "python",
   "pygments_lexer": "ipython3",
   "version": "3.11.5"
  }
 },
 "nbformat": 4,
 "nbformat_minor": 2
}
