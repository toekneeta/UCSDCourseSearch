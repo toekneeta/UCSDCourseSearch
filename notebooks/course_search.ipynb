{
 "cells": [
  {
   "cell_type": "code",
   "execution_count": 19,
   "id": "e53e20ca",
   "metadata": {},
   "outputs": [],
   "source": [
    "import time\n",
    "import json\n",
    "from FlagEmbedding import FlagModel\n",
    "import numpy as np\n",
    "import pandas as pd\n",
    "import heapq\n",
    "import re\n",
    "import spacy\n",
    "\n",
    "# from nltk.corpus import stopwords\n",
    "# from nltk.tokenize import word_tokenize\n",
    "# from nltk.stem import WordNetLemmatizer"
   ]
  },
  {
   "cell_type": "markdown",
   "id": "334a0b75",
   "metadata": {},
   "source": [
    "## Step 0: Read in the Data + Model"
   ]
  },
  {
   "cell_type": "code",
   "execution_count": 20,
   "id": "835ab3a7",
   "metadata": {},
   "outputs": [
    {
     "data": {
      "text/html": [
       "<div>\n",
       "<style scoped>\n",
       "    .dataframe tbody tr th:only-of-type {\n",
       "        vertical-align: middle;\n",
       "    }\n",
       "\n",
       "    .dataframe tbody tr th {\n",
       "        vertical-align: top;\n",
       "    }\n",
       "\n",
       "    .dataframe thead th {\n",
       "        text-align: right;\n",
       "    }\n",
       "</style>\n",
       "<table border=\"1\" class=\"dataframe\">\n",
       "  <thead>\n",
       "    <tr style=\"text-align: right;\">\n",
       "      <th></th>\n",
       "      <th>Code</th>\n",
       "      <th>Department</th>\n",
       "      <th>Title</th>\n",
       "      <th>Units</th>\n",
       "      <th>Description</th>\n",
       "      <th>Prerequisites</th>\n",
       "      <th>Level</th>\n",
       "      <th>URL</th>\n",
       "      <th>Spring24</th>\n",
       "    </tr>\n",
       "  </thead>\n",
       "  <tbody>\n",
       "    <tr>\n",
       "      <th>0</th>\n",
       "      <td>AIP 97</td>\n",
       "      <td>AIP</td>\n",
       "      <td>Academic Internship</td>\n",
       "      <td>2, 4</td>\n",
       "      <td>Individual placements for field learning. Must...</td>\n",
       "      <td>lower-division standing, completion of thirty ...</td>\n",
       "      <td>Lower Division</td>\n",
       "      <td>https://cape.ucsd.edu/responses/Results.aspx?N...</td>\n",
       "      <td>False</td>\n",
       "    </tr>\n",
       "    <tr>\n",
       "      <th>1</th>\n",
       "      <td>AIP 197</td>\n",
       "      <td>AIP</td>\n",
       "      <td>Academic Internship Program</td>\n",
       "      <td>2, 4, 6, 8, 10, 12</td>\n",
       "      <td>Individual internship placements integrated wi...</td>\n",
       "      <td>upper-division standing; department approval.</td>\n",
       "      <td>Upper Division</td>\n",
       "      <td>https://cape.ucsd.edu/responses/Results.aspx?N...</td>\n",
       "      <td>False</td>\n",
       "    </tr>\n",
       "    <tr>\n",
       "      <th>2</th>\n",
       "      <td>AIP 197DC</td>\n",
       "      <td>AIP</td>\n",
       "      <td>UCDC: Washington, DC Internship</td>\n",
       "      <td>6, 8, 10</td>\n",
       "      <td>This internship is attached to the University ...</td>\n",
       "      <td>upper-division standing; department approval.</td>\n",
       "      <td>Upper Division</td>\n",
       "      <td>https://cape.ucsd.edu/responses/Results.aspx?N...</td>\n",
       "      <td>False</td>\n",
       "    </tr>\n",
       "    <tr>\n",
       "      <th>3</th>\n",
       "      <td>AIP 197P</td>\n",
       "      <td>AIP</td>\n",
       "      <td>Public Service Internship</td>\n",
       "      <td>4, 8, 12</td>\n",
       "      <td>Individual placements for field learning perfo...</td>\n",
       "      <td>ninety units completed; 2.5 minimum cumulative...</td>\n",
       "      <td>Upper Division</td>\n",
       "      <td>https://cape.ucsd.edu/responses/Results.aspx?N...</td>\n",
       "      <td>False</td>\n",
       "    </tr>\n",
       "    <tr>\n",
       "      <th>4</th>\n",
       "      <td>AIP 197T</td>\n",
       "      <td>AIP</td>\n",
       "      <td>Academic Internship Program—Special Programs</td>\n",
       "      <td>2</td>\n",
       "      <td>Individual placements for field learning assoc...</td>\n",
       "      <td>ninety units minimum completed; 2.5 minimum cu...</td>\n",
       "      <td>Upper Division</td>\n",
       "      <td>https://cape.ucsd.edu/responses/Results.aspx?N...</td>\n",
       "      <td>False</td>\n",
       "    </tr>\n",
       "  </tbody>\n",
       "</table>\n",
       "</div>"
      ],
      "text/plain": [
       "        Code Department                                         Title  \\\n",
       "0     AIP 97        AIP                           Academic Internship   \n",
       "1    AIP 197        AIP                   Academic Internship Program   \n",
       "2  AIP 197DC        AIP               UCDC: Washington, DC Internship   \n",
       "3   AIP 197P        AIP                     Public Service Internship   \n",
       "4   AIP 197T        AIP  Academic Internship Program—Special Programs   \n",
       "\n",
       "                Units                                        Description  \\\n",
       "0                2, 4  Individual placements for field learning. Must...   \n",
       "1  2, 4, 6, 8, 10, 12  Individual internship placements integrated wi...   \n",
       "2            6, 8, 10  This internship is attached to the University ...   \n",
       "3            4, 8, 12  Individual placements for field learning perfo...   \n",
       "4                   2  Individual placements for field learning assoc...   \n",
       "\n",
       "                                       Prerequisites           Level  \\\n",
       "0  lower-division standing, completion of thirty ...  Lower Division   \n",
       "1      upper-division standing; department approval.  Upper Division   \n",
       "2      upper-division standing; department approval.  Upper Division   \n",
       "3  ninety units completed; 2.5 minimum cumulative...  Upper Division   \n",
       "4  ninety units minimum completed; 2.5 minimum cu...  Upper Division   \n",
       "\n",
       "                                                 URL  Spring24  \n",
       "0  https://cape.ucsd.edu/responses/Results.aspx?N...     False  \n",
       "1  https://cape.ucsd.edu/responses/Results.aspx?N...     False  \n",
       "2  https://cape.ucsd.edu/responses/Results.aspx?N...     False  \n",
       "3  https://cape.ucsd.edu/responses/Results.aspx?N...     False  \n",
       "4  https://cape.ucsd.edu/responses/Results.aspx?N...     False  "
      ]
     },
     "execution_count": 20,
     "metadata": {},
     "output_type": "execute_result"
    }
   ],
   "source": [
    "course_catalog = pd.read_csv('../data/course_info.csv')\n",
    "course_catalog.head()"
   ]
  },
  {
   "cell_type": "code",
   "execution_count": 3,
   "id": "2e657a34",
   "metadata": {},
   "outputs": [],
   "source": [
    "model = FlagModel('BAAI/bge-small-en-v1.5', \n",
    "                  query_instruction_for_retrieval=\"Represent this sentence for searching relevant passages: \",\n",
    "                  use_fp16=True) # Setting use_fp16 to True speeds up computation with a slight performance degradation"
   ]
  },
  {
   "cell_type": "markdown",
   "id": "392069c7",
   "metadata": {},
   "source": [
    "## Step 1: Load in the Document Embeddings"
   ]
  },
  {
   "cell_type": "code",
   "execution_count": 4,
   "id": "0633d759",
   "metadata": {},
   "outputs": [
    {
     "name": "stdout",
     "output_type": "stream",
     "text": [
      "Time taken to load in the title embeddings: 1.347188949584961 seconds\n"
     ]
    }
   ],
   "source": [
    "start = time.time()\n",
    "\n",
    "# read the json file from title_bge_embeddings.json\n",
    "with open('../data/embeddings/bge_title_embeddings.json', 'r') as json_file:\n",
    "    title_embeddings_dict = json.load(json_file)\n",
    "\n",
    "# convert each list value to a numpy array\n",
    "title_embeddings = []\n",
    "for key, value in title_embeddings_dict.items():\n",
    "    title_embeddings.append(np.array(value))\n",
    "end = time.time()\n",
    "\n",
    "print(\"Time taken to load in the title embeddings:\", end - start, \"seconds\")"
   ]
  },
  {
   "cell_type": "code",
   "execution_count": 5,
   "id": "15f16124",
   "metadata": {},
   "outputs": [
    {
     "name": "stdout",
     "output_type": "stream",
     "text": [
      "Time taken to load in the description embeddings: 1.3619611263275146 seconds\n"
     ]
    }
   ],
   "source": [
    "start = time.time()\n",
    "\n",
    "# read the json file from desc_bge_embeddings.json\n",
    "with open('../data/embeddings/bge_desc_embeddings.json', 'r') as json_file:\n",
    "    desc_embeddings_dict = json.load(json_file)\n",
    "\n",
    "# convert each list value to a numpy array\n",
    "desc_embeddings = []\n",
    "for key, value in desc_embeddings_dict.items():\n",
    "    desc_embeddings.append(np.array(value))\n",
    "end = time.time()\n",
    "\n",
    "print(\"Time taken to load in the description embeddings:\", end - start, \"seconds\")"
   ]
  },
  {
   "cell_type": "markdown",
   "id": "d6f46834",
   "metadata": {},
   "source": [
    "## Step 2: Implement the Search Function"
   ]
  },
  {
   "cell_type": "code",
   "execution_count": 6,
   "id": "c9c2c829",
   "metadata": {},
   "outputs": [],
   "source": [
    "# Uncomment to download en_core_web_sm model if not downloaded already\n",
    "# !python -m spacy download en_core_web_sm"
   ]
  },
  {
   "cell_type": "code",
   "execution_count": 7,
   "id": "a9687ff1",
   "metadata": {},
   "outputs": [],
   "source": [
    "nlp = spacy.load('en_core_web_sm')"
   ]
  },
  {
   "cell_type": "code",
   "execution_count": 8,
   "id": "9aa4dbd1",
   "metadata": {},
   "outputs": [],
   "source": [
    "def preprocess_and_embed(text):\n",
    "#   Preprocessing using NLTK\n",
    "#     ===============================================================\n",
    "#      # Convert to lowercase\n",
    "#     text = text.lower()\n",
    "    \n",
    "#     # Tokenizes text\n",
    "#     tokens = re.split(r'[^a-zA-Z0-9]+', text)\n",
    "    \n",
    "#     # Remove stopwords\n",
    "#     stop_words = set(stopwords.words('english'))\n",
    "#     tokens = [token for token in tokens if token not in stop_words]\n",
    "    \n",
    "#     # Lemmatize\n",
    "#     lemmatizer = WordNetLemmatizer()\n",
    "#     tokens = [lemmatizer.lemmatize(token) for token in tokens]\n",
    "\n",
    "#     preprocessed_text = ' '.join(tokens)\n",
    "#   =================================================================\n",
    "\n",
    "    # uses spacy to preprocess text\n",
    "    preprocessed_text = str(nlp(text))\n",
    "\n",
    "    return model.encode(preprocessed_text)"
   ]
  },
  {
   "cell_type": "code",
   "execution_count": 9,
   "id": "2e1b7aaa",
   "metadata": {},
   "outputs": [],
   "source": [
    "def cosine_similarity(vec1, vec2):\n",
    "    \"\"\"\n",
    "    Computes the cosine similarity between two vectors\n",
    "    \"\"\"\n",
    "    return np.dot(vec1, vec2) / (np.linalg.norm(vec1) * np.linalg.norm(vec2))"
   ]
  },
  {
   "cell_type": "code",
   "execution_count": 10,
   "id": "1ee553a7",
   "metadata": {},
   "outputs": [],
   "source": [
    "def search(query, title_embeddings, desc_embeddings, data, k=10):\n",
    "    \"\"\"\n",
    "    Computes the embedding of the query and retrieves the k most similar documents\n",
    "    \"\"\"\n",
    "    # if query is a potential course code, check if its in a valid course code format\n",
    "    if re.match('^[A-Za-z]+\\d+$', query):\n",
    "        # remove punctuation from query\n",
    "        query = re.sub('[^0-9a-zA-Z ]+', '', query)\n",
    "        # add the space if query doesn't have a space between department and number\n",
    "        query = re.sub(\"[A-Za-z]+\", lambda ele: \" \" + ele[0] + \" \", query).strip()\n",
    "        \n",
    "    # if the query is a course code, return just the row containing the course code\n",
    "    if re.sub('[^0-9a-zA-Z ]+', '', query).upper() in data['Code'].values:  \n",
    "        query = re.sub('[^0-9a-zA-Z ]+', '', query)\n",
    "        exact_code = data[data['Code'] == query.upper()].iloc[0]\n",
    "        return [(exact_code['Code'], exact_code['Title'], 1.0)] # return the row of the exact course match (sim = 1.0)\n",
    "    \n",
    "    # if the query is a course department, return all courses from that department\n",
    "    if re.sub('[^0-9a-zA-Z ]+', '', query).upper() in data['Department'].values:\n",
    "        query = re.sub('[^0-9a-zA-Z ]+', '', query)\n",
    "        exact_dept = data[data['Department'] == query.upper()]\n",
    "        return [(exact_dept['Code'].iloc[i], exact_dept['Title'].iloc[i], 1.0) for i in range(exact_dept.shape[0])]\n",
    "    \n",
    "    # gets the embedding of the query\n",
    "    query_embedding = preprocess_and_embed(query)\n",
    "    \n",
    "    # get the similarities between the query embedding and the title embeddings\n",
    "    title_similarities = np.array([cosine_similarity(query_embedding, doc_emb) for doc_emb in title_embeddings])\n",
    "    \n",
    "    # get the similarities between the query embedding and the description embeddings\n",
    "    desc_similarities = np.array([cosine_similarity(query_embedding, doc_emb) for doc_emb in desc_embeddings])\n",
    "    \n",
    "    # weight the title and description similarities (weights should add up to 1) and calculate total similarity\n",
    "    title_weight = 0.7\n",
    "    desc_weight = 0.3\n",
    "    similarities = (title_similarities * title_weight) + (desc_similarities * desc_weight)\n",
    "    \n",
    "    # ranks similarities by most similar to query embedding\n",
    "    index_similarity_pair_ranked =  heapq.nlargest(k, enumerate(similarities), key=lambda x: x[1])\n",
    "    \n",
    "    ranked_docs = []\n",
    "    for ind, sim in index_similarity_pair_ranked:\n",
    "        # if cosine similarity < 0.7 and at least 3 courses have been added to search results, stop adding to search results\n",
    "        if sim < 0.7 and len(ranked_docs) >= 3:\n",
    "            break\n",
    "        # grab the course code, the course title, and the similarity score\n",
    "        ranked_docs.append((data['Code'][ind], data['Title'][ind], sim))\n",
    "    \n",
    "    return ranked_docs"
   ]
  },
  {
   "cell_type": "markdown",
   "id": "a8e993c4",
   "metadata": {},
   "source": [
    "## Step 3: Testing the Search Engine"
   ]
  },
  {
   "cell_type": "code",
   "execution_count": 11,
   "id": "2524307f",
   "metadata": {},
   "outputs": [
    {
     "name": "stdout",
     "output_type": "stream",
     "text": [
      "Search time: 0.0029888153076171875 seconds\n"
     ]
    },
    {
     "data": {
      "text/plain": [
       "[('DSC 10', 'Principles of Data Science', 1.0),\n",
       " ('DSC 20', 'Programming and Basic Data Structures for Data Science', 1.0),\n",
       " ('DSC 30', 'Data Structures and Algorithms for Data Science', 1.0),\n",
       " ('DSC 40A', 'Theoretical Foundations of Data Science I', 1.0),\n",
       " ('DSC 40B', 'Theoretical Foundations of Data Science II', 1.0),\n",
       " ('DSC 80', 'The Practice and Application of Data Science', 1.0),\n",
       " ('DSC 90', 'Seminar in Data Science', 1.0),\n",
       " ('DSC 95', 'Tutor Apprenticeship in Data Science', 1.0),\n",
       " ('DSC 96', 'Workshop in Data Science', 1.0),\n",
       " ('DSC 97', 'Internship in Data Science', 1.0),\n",
       " ('DSC 98', 'Directed Group Study in Data Science', 1.0),\n",
       " ('DSC 99', 'Independent Study in Data Science', 1.0),\n",
       " ('DSC 100', 'Introduction to Data Management', 1.0),\n",
       " ('DSC 102', 'Systems for Scalable Analytics', 1.0),\n",
       " ('DSC 104', 'Beyond Relational Data Management', 1.0),\n",
       " ('DSC 106', 'Introduction to Data Visualization', 1.0),\n",
       " ('DSC 120', 'Signal Processing for Data Analysis', 1.0),\n",
       " ('DSC 140A', 'Probabilistic Modeling and Machine Learning', 1.0),\n",
       " ('DSC 140B', 'Representation Learning', 1.0),\n",
       " ('DSC 148', 'Introduction to Data Mining', 1.0),\n",
       " ('DSC 155', 'Hidden Data in Random Matrices', 1.0),\n",
       " ('DSC 160', 'Data Science and the Arts', 1.0),\n",
       " ('DSC 161', 'Text as Data', 1.0),\n",
       " ('DSC 167', 'Fairness and Algorithmic Decision-Making', 1.0),\n",
       " ('DSC 170', 'Spatial Data Science and Applications', 1.0),\n",
       " ('DSC 180A', 'Data Science Project I', 1.0),\n",
       " ('DSC 180B', 'Data Science Project II', 1.0),\n",
       " ('DSC 190', 'Topics in Data Science', 1.0),\n",
       " ('DSC 191', 'Seminar in Data Science', 1.0),\n",
       " ('DSC 197', 'Data Science Internship', 1.0),\n",
       " ('DSC 198', 'Directed Group Study in Data Science', 1.0),\n",
       " ('DSC 199', 'Independent Study for Data Science Undergraduates', 1.0),\n",
       " ('DSC 200', 'Data Science Programming', 1.0),\n",
       " ('DSC 202', 'Data Management for Data Science', 1.0),\n",
       " ('DSC 203', 'Data Visualization and Scalable Visual Analytics', 1.0),\n",
       " ('DSC 204A', 'Scalable Data Systems', 1.0),\n",
       " ('DSC 205', 'Geometry of Data', 1.0),\n",
       " ('DSC 206', 'Algorithms for Data Science', 1.0),\n",
       " ('DSC 207R', 'Python for Data Science', 1.0),\n",
       " ('DSC 208R', 'Data Management for Analytics', 1.0),\n",
       " ('DSC 210', 'Numerical Linear Algebra', 1.0),\n",
       " ('DSC 211', 'Introduction to Optimization', 1.0),\n",
       " ('DSC 212', 'Probability and Statistics for Data Science', 1.0),\n",
       " ('DSC 213', 'Statistics on Manifolds', 1.0),\n",
       " ('DSC 214', 'Topological Data Analysis', 1.0),\n",
       " ('DSC 215', 'Statistical Thinking and Experimental Design', 1.0),\n",
       " ('DSC 215R',\n",
       "  'Foundations of Probability and Statistics in Data Science',\n",
       "  1.0),\n",
       " ('DSC 231', 'Embedded Sensing, IOT Data Models, and Methods', 1.0),\n",
       " ('DSC 232R', 'Big Data Analytics Using Spark', 1.0),\n",
       " ('DSC 240', 'Machine Learning', 1.0),\n",
       " ('DSC 241', 'Statistical Models', 1.0),\n",
       " ('DSC 242', 'High-Dimensional Probability and Statistics', 1.0),\n",
       " ('DSC 243', 'Advanced Optimization', 1.0),\n",
       " ('DSC 244', 'Large-Scale Statistical Analysis', 1.0),\n",
       " ('DSC 245', 'Introduction to Causal Inference', 1.0),\n",
       " ('DSC 250', 'Advanced Data Mining', 1.0),\n",
       " ('DSC 251', 'Machine Learning in Control', 1.0),\n",
       " ('DSC 252', 'Statistical Natural Language Processing', 1.0),\n",
       " ('DSC 253', 'Advanced Data-Driven Text Mining', 1.0),\n",
       " ('DSC 254', 'Statistical Signal and Image Analysis', 1.0),\n",
       " ('DSC 255R', 'Machine Learning Fundamentals', 1.0),\n",
       " ('DSC 256R', 'Data Mining on the Web', 1.0),\n",
       " ('DSC 257R', 'Unsupervised Learning', 1.0),\n",
       " ('DSC 258R', 'Natural Language Processing', 1.0),\n",
       " ('DSC 260', 'Data Science, Ethics, and Society', 1.0),\n",
       " ('DSC 261', 'Responsible Data Science', 1.0),\n",
       " ('DSC 267R', 'Data Fairness and Ethics', 1.0),\n",
       " ('DSC 290', 'Seminar in Data Science', 1.0),\n",
       " ('DSC 291', 'Topics in Data Science', 1.0),\n",
       " ('DSC 293', 'Faculty Research Seminar', 1.0),\n",
       " ('DSC 294', 'Research Rotation', 1.0),\n",
       " ('DSC 295', 'Academia Survival Skills', 1.0),\n",
       " ('DSC 298R', 'Graduate Capstone in Data Science', 1.0),\n",
       " ('DSC 299', 'Graduate Research', 1.0),\n",
       " ('DSC 500', 'Teaching Assistantship', 1.0),\n",
       " ('DSC 599', 'Teaching Methods in Data Science', 1.0)]"
      ]
     },
     "execution_count": 11,
     "metadata": {},
     "output_type": "execute_result"
    }
   ],
   "source": [
    "start = time.time()\n",
    "query = \"dsc.\"\n",
    "search_results = search(query, title_embeddings, desc_embeddings, course_catalog)\n",
    "end = time.time()\n",
    "print(\"Search time:\", end - start, \"seconds\")\n",
    "search_results"
   ]
  },
  {
   "cell_type": "code",
   "execution_count": 12,
   "id": "342a0c4f",
   "metadata": {},
   "outputs": [
    {
     "name": "stdout",
     "output_type": "stream",
     "text": [
      "Search time: 0.001008749008178711 seconds\n"
     ]
    },
    {
     "data": {
      "text/plain": [
       "[('DSC 10', 'Principles of Data Science', 1.0)]"
      ]
     },
     "execution_count": 12,
     "metadata": {},
     "output_type": "execute_result"
    }
   ],
   "source": [
    "start = time.time()\n",
    "query = \"dsc 10\"\n",
    "search_results = search(query, title_embeddings, desc_embeddings, course_catalog)\n",
    "end = time.time()\n",
    "print(\"Search time:\", end - start, \"seconds\")\n",
    "search_results"
   ]
  },
  {
   "cell_type": "code",
   "execution_count": 13,
   "id": "b0051ae0",
   "metadata": {},
   "outputs": [
    {
     "name": "stdout",
     "output_type": "stream",
     "text": [
      "Search time: 0.2039804458618164 seconds\n"
     ]
    },
    {
     "data": {
      "text/plain": [
       "[('MATH 10A', 'Calculus I', 0.8489875773069042),\n",
       " ('MATH 20A', 'Calculus for Science and Engineering', 0.8330968660103681),\n",
       " ('MATH 10B', 'Calculus II', 0.8287532588866264),\n",
       " ('MATH 20B', 'Calculus for Science and Engineering', 0.819815530418673),\n",
       " ('MATH 20D', 'Introduction to Differential Equations', 0.8159379424115494),\n",
       " ('MAE 105', 'Introduction to Mathematical Physics', 0.8008051210718767),\n",
       " ('MATH 110',\n",
       "  'Introduction to Partial Differential Equations',\n",
       "  0.7931030652319019),\n",
       " ('MATH 170C',\n",
       "  'Introduction to Numerical Analysis: Ordinary Differential Equations',\n",
       "  0.7920915515928617),\n",
       " ('MATH 157', 'Introduction to Mathematical Software', 0.7909416657714962),\n",
       " ('MATH 15A', 'Introduction to Discrete Mathematics', 0.7899653791136791)]"
      ]
     },
     "execution_count": 13,
     "metadata": {},
     "output_type": "execute_result"
    }
   ],
   "source": [
    "start = time.time()\n",
    "query = \"introduction to calculus\"\n",
    "search_results = search(query, title_embeddings, desc_embeddings, course_catalog)\n",
    "end = time.time()\n",
    "print(\"Search time:\", end - start, \"seconds\")\n",
    "search_results"
   ]
  },
  {
   "cell_type": "code",
   "execution_count": 14,
   "id": "25a32163",
   "metadata": {},
   "outputs": [
    {
     "name": "stdout",
     "output_type": "stream",
     "text": [
      "Search time: 0.19084811210632324 seconds\n"
     ]
    },
    {
     "data": {
      "text/plain": [
       "[('MATH 95', 'Introduction to Teaching Math', 0.8690410107775794),\n",
       " ('MATH 195', 'Introduction to Teaching in Mathematics', 0.8531119389423881),\n",
       " ('MATH 121A',\n",
       "  'Foundations of Teaching and Learning Mathematics I',\n",
       "  0.8399435237588702),\n",
       " ('EDS 374', 'Secondary Mathematics Teaching Practices', 0.8285359108905239),\n",
       " ('MATH 121B',\n",
       "  'Foundations of Teaching and Learning Math II',\n",
       "  0.8193767269986378),\n",
       " ('MSED 297',\n",
       "  'Special Topics in Math and Science Education',\n",
       "  0.8159380099344792),\n",
       " ('EDS 385',\n",
       "  'Elementary School Mathematics Content and Pedagogy',\n",
       "  0.8144931841357561),\n",
       " ('MATH 153', 'Geometry for Secondary Teachers', 0.8140247492439814),\n",
       " ('EDS 355C',\n",
       "  'Advanced Mathematics Teaching Practices for Grades K–6',\n",
       "  0.8071020828748441),\n",
       " ('EDS 355A',\n",
       "  'Advanced Mathematics Teaching Practices for Grades K–6',\n",
       "  0.8064081401487981)]"
      ]
     },
     "execution_count": 14,
     "metadata": {},
     "output_type": "execute_result"
    }
   ],
   "source": [
    "start = time.time()\n",
    "query = \"teaching math\"\n",
    "search_results = search(query, title_embeddings, desc_embeddings, course_catalog)\n",
    "end = time.time()\n",
    "print(\"Search time:\", end - start, \"seconds\")\n",
    "search_results"
   ]
  },
  {
   "cell_type": "code",
   "execution_count": 15,
   "id": "6bb03b9b",
   "metadata": {},
   "outputs": [
    {
     "name": "stdout",
     "output_type": "stream",
     "text": [
      "Search time: 0.22683119773864746 seconds\n"
     ]
    },
    {
     "data": {
      "text/plain": [
       "[('LISL 1D', 'American Sign Language Conversation', 0.8566984500842192),\n",
       " ('LISL 1C', 'American Sign Language Conversation', 0.8513451949604657),\n",
       " ('LISL 1A', 'American Sign Language Conversation', 0.8503227548526439),\n",
       " ('LISL 1B', 'American Sign Language Conversation', 0.8494378726229577),\n",
       " ('LIGN 7', 'Sign Languages and Their Cultures', 0.8482194864398789),\n",
       " ('LIGN 280', 'Sign Language Research', 0.8439243261619339),\n",
       " ('LISL 1DX', 'Analysis of American Sign Language', 0.842297113218707),\n",
       " ('LIGN 148',\n",
       "  'The Psycholinguistics of Gesture and Sign Languages',\n",
       "  0.8406767774228334),\n",
       " ('LISL 1E',\n",
       "  'Intermediate American Sign Language Conversation',\n",
       "  0.8324623088454213),\n",
       " ('LISL 1CX', 'Analysis of American Sign Language', 0.8260226145336731)]"
      ]
     },
     "execution_count": 15,
     "metadata": {},
     "output_type": "execute_result"
    }
   ],
   "source": [
    "start = time.time()\n",
    "query = \"sign language\"\n",
    "search_results = search(query, title_embeddings, desc_embeddings, course_catalog)\n",
    "end = time.time()\n",
    "print(\"Search time:\", end - start, \"seconds\")\n",
    "search_results"
   ]
  },
  {
   "cell_type": "code",
   "execution_count": 16,
   "id": "f131f59a",
   "metadata": {},
   "outputs": [
    {
     "name": "stdout",
     "output_type": "stream",
     "text": [
      "Search time: 0.19827532768249512 seconds\n"
     ]
    },
    {
     "data": {
      "text/plain": [
       "[('ECON 109', 'Game Theory', 0.9324998366334738),\n",
       " ('POLI 204C', 'Game Theory 1', 0.896040592567642),\n",
       " ('POLI 205', 'Game Theory II', 0.8704689822243641),\n",
       " ('ECON 262', 'Behavioral Game Theory', 0.8544199109431581),\n",
       " ('POLI 118', 'Game Theory in Political Science', 0.8527695704894559),\n",
       " ('ECON 109T', 'Advanced Topics in Game Theory', 0.8370550320547614),\n",
       " ('POLI 100U', 'Games, Strategy, and Politics', 0.776035180767025),\n",
       " ('MATH 280A', 'Probability Theory I', 0.7737567717698303),\n",
       " ('ECON 204', 'Contract Theory', 0.7703438700206499),\n",
       " ('PHIL 125', 'Probability and Decision Theory', 0.7664281303160928)]"
      ]
     },
     "execution_count": 16,
     "metadata": {},
     "output_type": "execute_result"
    }
   ],
   "source": [
    "start = time.time()\n",
    "query = \"game theory\"\n",
    "search_results = search(query, title_embeddings, desc_embeddings, course_catalog)\n",
    "end = time.time()\n",
    "print(\"Search time:\", end - start, \"seconds\")\n",
    "search_results"
   ]
  },
  {
   "cell_type": "code",
   "execution_count": 17,
   "id": "886a1aec",
   "metadata": {},
   "outputs": [
    {
     "name": "stdout",
     "output_type": "stream",
     "text": [
      "Search time: 0.0020012855529785156 seconds\n"
     ]
    },
    {
     "data": {
      "text/plain": [
       "[('MATH 10A', 'Calculus I', 1.0)]"
      ]
     },
     "execution_count": 17,
     "metadata": {},
     "output_type": "execute_result"
    }
   ],
   "source": [
    "start = time.time()\n",
    "query = \"math 10a\"\n",
    "search_results = search(query, title_embeddings, desc_embeddings, course_catalog)\n",
    "end = time.time()\n",
    "print(\"Search time:\", end - start, \"seconds\")\n",
    "search_results"
   ]
  },
  {
   "cell_type": "code",
   "execution_count": 18,
   "id": "8d0076c5",
   "metadata": {},
   "outputs": [
    {
     "name": "stdout",
     "output_type": "stream",
     "text": [
      "Search time: 0.17919349670410156 seconds\n"
     ]
    },
    {
     "data": {
      "text/plain": [
       "[('HITO 123', 'The Global History of Soccer', 0.7334518200290014),\n",
       " ('PSYC 139', 'The Social Psychology of Sport', 0.6842909329266696),\n",
       " ('COMM 111T', 'CCP: Cultural Politics of Sport', 0.6568140348476779)]"
      ]
     },
     "execution_count": 18,
     "metadata": {},
     "output_type": "execute_result"
    }
   ],
   "source": [
    "start = time.time()\n",
    "query = \"soccer\"\n",
    "search_results = search(query, title_embeddings, desc_embeddings, course_catalog)\n",
    "end = time.time()\n",
    "print(\"Search time:\", end - start, \"seconds\")\n",
    "search_results"
   ]
  }
 ],
 "metadata": {
  "kernelspec": {
   "display_name": "Python 3 (ipykernel)",
   "language": "python",
   "name": "python3"
  },
  "language_info": {
   "codemirror_mode": {
    "name": "ipython",
    "version": 3
   },
   "file_extension": ".py",
   "mimetype": "text/x-python",
   "name": "python",
   "nbconvert_exporter": "python",
   "pygments_lexer": "ipython3",
   "version": "3.11.5"
  }
 },
 "nbformat": 4,
 "nbformat_minor": 5
}
