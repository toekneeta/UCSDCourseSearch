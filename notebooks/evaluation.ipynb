{
 "cells": [
  {
   "cell_type": "code",
   "execution_count": 25,
   "metadata": {},
   "outputs": [],
   "source": [
    "import numpy as np\n",
    "import pandas as pd"
   ]
  },
  {
   "cell_type": "code",
   "execution_count": 26,
   "metadata": {},
   "outputs": [],
   "source": [
    "ts = pd.read_csv('../data/eval/tritonsearch_results_labeled.csv')\n",
    "ucs = pd.read_csv('../data/eval/ucs_results_labeled.csv')\n",
    "es = pd.read_csv('../data/eval/elasticsearch_results_labeled.csv')\n",
    "\n",
    "\n",
    "test_results = [ucs, es, ts]"
   ]
  },
  {
   "cell_type": "code",
   "execution_count": 42,
   "metadata": {},
   "outputs": [
    {
     "data": {
      "text/plain": [
       "145"
      ]
     },
     "execution_count": 42,
     "metadata": {},
     "output_type": "execute_result"
    }
   ],
   "source": [
    "len(ts['Query'].unique())"
   ]
  },
  {
   "cell_type": "code",
   "execution_count": 27,
   "metadata": {},
   "outputs": [
    {
     "data": {
      "text/html": [
       "<div>\n",
       "<style scoped>\n",
       "    .dataframe tbody tr th:only-of-type {\n",
       "        vertical-align: middle;\n",
       "    }\n",
       "\n",
       "    .dataframe tbody tr th {\n",
       "        vertical-align: top;\n",
       "    }\n",
       "\n",
       "    .dataframe thead th {\n",
       "        text-align: right;\n",
       "    }\n",
       "</style>\n",
       "<table border=\"1\" class=\"dataframe\">\n",
       "  <thead>\n",
       "    <tr style=\"text-align: right;\">\n",
       "      <th></th>\n",
       "      <th>Query</th>\n",
       "      <th>Class Code</th>\n",
       "      <th>Ranking (position)</th>\n",
       "      <th>Relevance</th>\n",
       "    </tr>\n",
       "  </thead>\n",
       "  <tbody>\n",
       "    <tr>\n",
       "      <th>0</th>\n",
       "      <td>2d art</td>\n",
       "      <td>NO RESULTS</td>\n",
       "      <td>1</td>\n",
       "      <td>0</td>\n",
       "    </tr>\n",
       "    <tr>\n",
       "      <th>1</th>\n",
       "      <td>2d art</td>\n",
       "      <td>NO RESULTS</td>\n",
       "      <td>2</td>\n",
       "      <td>0</td>\n",
       "    </tr>\n",
       "    <tr>\n",
       "      <th>2</th>\n",
       "      <td>2d art</td>\n",
       "      <td>NO RESULTS</td>\n",
       "      <td>3</td>\n",
       "      <td>0</td>\n",
       "    </tr>\n",
       "    <tr>\n",
       "      <th>3</th>\n",
       "      <td>2d art</td>\n",
       "      <td>NO RESULTS</td>\n",
       "      <td>4</td>\n",
       "      <td>0</td>\n",
       "    </tr>\n",
       "    <tr>\n",
       "      <th>4</th>\n",
       "      <td>2d art</td>\n",
       "      <td>NO RESULTS</td>\n",
       "      <td>5</td>\n",
       "      <td>0</td>\n",
       "    </tr>\n",
       "    <tr>\n",
       "      <th>5</th>\n",
       "      <td>accounting</td>\n",
       "      <td>MGT 45</td>\n",
       "      <td>1</td>\n",
       "      <td>1</td>\n",
       "    </tr>\n",
       "    <tr>\n",
       "      <th>6</th>\n",
       "      <td>accounting</td>\n",
       "      <td>MGT 138</td>\n",
       "      <td>2</td>\n",
       "      <td>1</td>\n",
       "    </tr>\n",
       "    <tr>\n",
       "      <th>7</th>\n",
       "      <td>accounting</td>\n",
       "      <td>MGTP 422</td>\n",
       "      <td>3</td>\n",
       "      <td>1</td>\n",
       "    </tr>\n",
       "    <tr>\n",
       "      <th>8</th>\n",
       "      <td>accounting</td>\n",
       "      <td>MGT 143</td>\n",
       "      <td>4</td>\n",
       "      <td>1</td>\n",
       "    </tr>\n",
       "    <tr>\n",
       "      <th>9</th>\n",
       "      <td>accounting</td>\n",
       "      <td>MGT 147</td>\n",
       "      <td>5</td>\n",
       "      <td>1</td>\n",
       "    </tr>\n",
       "  </tbody>\n",
       "</table>\n",
       "</div>"
      ],
      "text/plain": [
       "        Query  Class Code  Ranking (position)  Relevance\n",
       "0      2d art  NO RESULTS                   1          0\n",
       "1      2d art  NO RESULTS                   2          0\n",
       "2      2d art  NO RESULTS                   3          0\n",
       "3      2d art  NO RESULTS                   4          0\n",
       "4      2d art  NO RESULTS                   5          0\n",
       "5  accounting      MGT 45                   1          1\n",
       "6  accounting     MGT 138                   2          1\n",
       "7  accounting    MGTP 422                   3          1\n",
       "8  accounting     MGT 143                   4          1\n",
       "9  accounting     MGT 147                   5          1"
      ]
     },
     "execution_count": 27,
     "metadata": {},
     "output_type": "execute_result"
    }
   ],
   "source": [
    "ts.head(10)\n"
   ]
  },
  {
   "cell_type": "code",
   "execution_count": 28,
   "metadata": {},
   "outputs": [
    {
     "data": {
      "text/html": [
       "<div>\n",
       "<style scoped>\n",
       "    .dataframe tbody tr th:only-of-type {\n",
       "        vertical-align: middle;\n",
       "    }\n",
       "\n",
       "    .dataframe tbody tr th {\n",
       "        vertical-align: top;\n",
       "    }\n",
       "\n",
       "    .dataframe thead th {\n",
       "        text-align: right;\n",
       "    }\n",
       "</style>\n",
       "<table border=\"1\" class=\"dataframe\">\n",
       "  <thead>\n",
       "    <tr style=\"text-align: right;\">\n",
       "      <th></th>\n",
       "      <th>Query</th>\n",
       "      <th>Class Code</th>\n",
       "      <th>Ranking (position)</th>\n",
       "      <th>Relevance</th>\n",
       "    </tr>\n",
       "  </thead>\n",
       "  <tbody>\n",
       "    <tr>\n",
       "      <th>0</th>\n",
       "      <td>2d art</td>\n",
       "      <td>VIS 1</td>\n",
       "      <td>1</td>\n",
       "      <td>1</td>\n",
       "    </tr>\n",
       "    <tr>\n",
       "      <th>1</th>\n",
       "      <td>2d art</td>\n",
       "      <td>VIS 106A</td>\n",
       "      <td>2</td>\n",
       "      <td>1</td>\n",
       "    </tr>\n",
       "    <tr>\n",
       "      <th>2</th>\n",
       "      <td>2d art</td>\n",
       "      <td>VIS 2</td>\n",
       "      <td>3</td>\n",
       "      <td>1</td>\n",
       "    </tr>\n",
       "    <tr>\n",
       "      <th>3</th>\n",
       "      <td>2d art</td>\n",
       "      <td>VIS 105A</td>\n",
       "      <td>4</td>\n",
       "      <td>1</td>\n",
       "    </tr>\n",
       "    <tr>\n",
       "      <th>4</th>\n",
       "      <td>2d art</td>\n",
       "      <td>VIS 3</td>\n",
       "      <td>5</td>\n",
       "      <td>0</td>\n",
       "    </tr>\n",
       "    <tr>\n",
       "      <th>5</th>\n",
       "      <td>accounting</td>\n",
       "      <td>MGT 404</td>\n",
       "      <td>1</td>\n",
       "      <td>1</td>\n",
       "    </tr>\n",
       "    <tr>\n",
       "      <th>6</th>\n",
       "      <td>accounting</td>\n",
       "      <td>MGTF 401</td>\n",
       "      <td>2</td>\n",
       "      <td>1</td>\n",
       "    </tr>\n",
       "    <tr>\n",
       "      <th>7</th>\n",
       "      <td>accounting</td>\n",
       "      <td>MGT 4</td>\n",
       "      <td>3</td>\n",
       "      <td>1</td>\n",
       "    </tr>\n",
       "    <tr>\n",
       "      <th>8</th>\n",
       "      <td>accounting</td>\n",
       "      <td>ECON 4</td>\n",
       "      <td>4</td>\n",
       "      <td>1</td>\n",
       "    </tr>\n",
       "    <tr>\n",
       "      <th>9</th>\n",
       "      <td>accounting</td>\n",
       "      <td>MGT 138</td>\n",
       "      <td>5</td>\n",
       "      <td>1</td>\n",
       "    </tr>\n",
       "  </tbody>\n",
       "</table>\n",
       "</div>"
      ],
      "text/plain": [
       "        Query Class Code  Ranking (position)  Relevance\n",
       "0      2d art      VIS 1                   1          1\n",
       "1      2d art   VIS 106A                   2          1\n",
       "2      2d art      VIS 2                   3          1\n",
       "3      2d art   VIS 105A                   4          1\n",
       "4      2d art      VIS 3                   5          0\n",
       "5  accounting    MGT 404                   1          1\n",
       "6  accounting   MGTF 401                   2          1\n",
       "7  accounting      MGT 4                   3          1\n",
       "8  accounting     ECON 4                   4          1\n",
       "9  accounting    MGT 138                   5          1"
      ]
     },
     "execution_count": 28,
     "metadata": {},
     "output_type": "execute_result"
    }
   ],
   "source": [
    "ucs.head(10)"
   ]
  },
  {
   "cell_type": "code",
   "execution_count": 29,
   "metadata": {},
   "outputs": [
    {
     "data": {
      "text/html": [
       "<div>\n",
       "<style scoped>\n",
       "    .dataframe tbody tr th:only-of-type {\n",
       "        vertical-align: middle;\n",
       "    }\n",
       "\n",
       "    .dataframe tbody tr th {\n",
       "        vertical-align: top;\n",
       "    }\n",
       "\n",
       "    .dataframe thead th {\n",
       "        text-align: right;\n",
       "    }\n",
       "</style>\n",
       "<table border=\"1\" class=\"dataframe\">\n",
       "  <thead>\n",
       "    <tr style=\"text-align: right;\">\n",
       "      <th></th>\n",
       "      <th>Query</th>\n",
       "      <th>Class Code</th>\n",
       "      <th>Course Title</th>\n",
       "      <th>Course Description</th>\n",
       "      <th>Relevance</th>\n",
       "      <th>Ranking (position)</th>\n",
       "    </tr>\n",
       "  </thead>\n",
       "  <tbody>\n",
       "    <tr>\n",
       "      <th>0</th>\n",
       "      <td>2d art</td>\n",
       "      <td>LTSP 2D</td>\n",
       "      <td>Intermediate Spanish I: Spanish for Bilingual ...</td>\n",
       "      <td>Spanish for native speakers. Designed for bili...</td>\n",
       "      <td>0</td>\n",
       "      <td>1</td>\n",
       "    </tr>\n",
       "    <tr>\n",
       "      <th>1</th>\n",
       "      <td>2d art</td>\n",
       "      <td>PHYS 2D</td>\n",
       "      <td>Physics—Relativity and Quantum Physics</td>\n",
       "      <td>A modern physics course covering atomic view o...</td>\n",
       "      <td>0</td>\n",
       "      <td>2</td>\n",
       "    </tr>\n",
       "    <tr>\n",
       "      <th>2</th>\n",
       "      <td>2d art</td>\n",
       "      <td>SE 7</td>\n",
       "      <td>Spatial Visualization</td>\n",
       "      <td>Spatial visualization is the ability to manipu...</td>\n",
       "      <td>0</td>\n",
       "      <td>3</td>\n",
       "    </tr>\n",
       "    <tr>\n",
       "      <th>3</th>\n",
       "      <td>2d art</td>\n",
       "      <td>VIS 23</td>\n",
       "      <td>Seminar in Art History Methods</td>\n",
       "      <td>This course, a lower-division seminar for art ...</td>\n",
       "      <td>0</td>\n",
       "      <td>4</td>\n",
       "    </tr>\n",
       "    <tr>\n",
       "      <th>4</th>\n",
       "      <td>2d art</td>\n",
       "      <td>SE 3</td>\n",
       "      <td>Graphical Communication for Engineering Design</td>\n",
       "      <td>Use of computer graphics (CAD software) to com...</td>\n",
       "      <td>1</td>\n",
       "      <td>5</td>\n",
       "    </tr>\n",
       "  </tbody>\n",
       "</table>\n",
       "</div>"
      ],
      "text/plain": [
       "    Query Class Code                                       Course Title  \\\n",
       "0  2d art    LTSP 2D  Intermediate Spanish I: Spanish for Bilingual ...   \n",
       "1  2d art    PHYS 2D             Physics—Relativity and Quantum Physics   \n",
       "2  2d art       SE 7                              Spatial Visualization   \n",
       "3  2d art     VIS 23                     Seminar in Art History Methods   \n",
       "4  2d art       SE 3     Graphical Communication for Engineering Design   \n",
       "\n",
       "                                  Course Description  Relevance  \\\n",
       "0  Spanish for native speakers. Designed for bili...          0   \n",
       "1  A modern physics course covering atomic view o...          0   \n",
       "2  Spatial visualization is the ability to manipu...          0   \n",
       "3  This course, a lower-division seminar for art ...          0   \n",
       "4  Use of computer graphics (CAD software) to com...          1   \n",
       "\n",
       "   Ranking (position)  \n",
       "0                   1  \n",
       "1                   2  \n",
       "2                   3  \n",
       "3                   4  \n",
       "4                   5  "
      ]
     },
     "execution_count": 29,
     "metadata": {},
     "output_type": "execute_result"
    }
   ],
   "source": [
    "es.head()"
   ]
  },
  {
   "cell_type": "code",
   "execution_count": 30,
   "metadata": {},
   "outputs": [
    {
     "data": {
      "text/html": [
       "<div>\n",
       "<style scoped>\n",
       "    .dataframe tbody tr th:only-of-type {\n",
       "        vertical-align: middle;\n",
       "    }\n",
       "\n",
       "    .dataframe tbody tr th {\n",
       "        vertical-align: top;\n",
       "    }\n",
       "\n",
       "    .dataframe thead th {\n",
       "        text-align: right;\n",
       "    }\n",
       "</style>\n",
       "<table border=\"1\" class=\"dataframe\">\n",
       "  <thead>\n",
       "    <tr style=\"text-align: right;\">\n",
       "      <th></th>\n",
       "      <th>Query</th>\n",
       "      <th>Class Code</th>\n",
       "      <th>Ranking (position)</th>\n",
       "      <th>Relevance</th>\n",
       "    </tr>\n",
       "  </thead>\n",
       "  <tbody>\n",
       "    <tr>\n",
       "      <th>475</th>\n",
       "      <td>human interaction</td>\n",
       "      <td>CSE 276B</td>\n",
       "      <td>1</td>\n",
       "      <td>1</td>\n",
       "    </tr>\n",
       "    <tr>\n",
       "      <th>476</th>\n",
       "      <td>human interaction</td>\n",
       "      <td>CSE 230</td>\n",
       "      <td>2</td>\n",
       "      <td>1</td>\n",
       "    </tr>\n",
       "    <tr>\n",
       "      <th>477</th>\n",
       "      <td>human interaction</td>\n",
       "      <td>CSE 216</td>\n",
       "      <td>3</td>\n",
       "      <td>1</td>\n",
       "    </tr>\n",
       "    <tr>\n",
       "      <th>478</th>\n",
       "      <td>human interaction</td>\n",
       "      <td>COGS 121</td>\n",
       "      <td>4</td>\n",
       "      <td>1</td>\n",
       "    </tr>\n",
       "    <tr>\n",
       "      <th>479</th>\n",
       "      <td>human interaction</td>\n",
       "      <td>NO RESULTS</td>\n",
       "      <td>5</td>\n",
       "      <td>0</td>\n",
       "    </tr>\n",
       "  </tbody>\n",
       "</table>\n",
       "</div>"
      ],
      "text/plain": [
       "                  Query  Class Code  Ranking (position)  Relevance\n",
       "475  human interaction     CSE 276B                   1          1\n",
       "476  human interaction      CSE 230                   2          1\n",
       "477  human interaction      CSE 216                   3          1\n",
       "478  human interaction     COGS 121                   4          1\n",
       "479  human interaction   NO RESULTS                   5          0"
      ]
     },
     "execution_count": 30,
     "metadata": {},
     "output_type": "execute_result"
    }
   ],
   "source": [
    "ts[ts['Query']=='human interaction ']"
   ]
  },
  {
   "cell_type": "markdown",
   "metadata": {},
   "source": [
    "## Mean Reciprocal Rank"
   ]
  },
  {
   "cell_type": "code",
   "execution_count": 33,
   "metadata": {},
   "outputs": [
    {
     "data": {
      "text/plain": [
       "[0.9689655172413794, 0.9345498783454987, 0.7241379310344828]"
      ]
     },
     "execution_count": 33,
     "metadata": {},
     "output_type": "execute_result"
    }
   ],
   "source": [
    "# MRR\n",
    "mrr_list = []\n",
    "\n",
    "for df in test_results:\n",
    "\n",
    "    # relevant_results = df[df['Relevance'] == 1]\n",
    "\n",
    "    # # Get the minimum rank for each query, assuming relevance of 1 means a relevant result\n",
    "    # min_rank_per_query = relevant_results.groupby('Query')['Ranking (position)'].min()\n",
    "\n",
    "    # # Calculate reciprocal rank\n",
    "    # reciprocal_rank = 1 / min_rank_per_query\n",
    "\n",
    "    # # Calculate MRR\n",
    "    # mrr = reciprocal_rank.mean()\n",
    "\n",
    "    # -----------------------------------------------------------------------------------------------------------------------------------\n",
    "\n",
    "#     relevant_results_new = df[df['Relevance'] == 1]\n",
    "    # If a query has no relevant results (i.e., all relevances are 0), we set its minimum rank to negative infinity for MRR calculation purposes\n",
    "    # This is because MRR is undefined (or considered as 0) for queries with no relevant results\n",
    "    df['Reciprocal Rank'] = df.apply(lambda x: 1/x['Ranking (position)'] if x['Relevance'] == 1 else float('-inf'), axis=1)\n",
    "    max_reciprocal_rank_per_query = df.groupby('Query')['Reciprocal Rank'].max()\n",
    "\n",
    "    # Handle cases where all results are irrelevant by setting their reciprocal rank contribution to 0\n",
    "    max_reciprocal_rank_per_query = max_reciprocal_rank_per_query.replace(float('-inf'), 0)\n",
    "\n",
    "    # Calculate MRR\n",
    "    mrr = max_reciprocal_rank_per_query.mean()\n",
    "\n",
    "    mrr_list.append(mrr)\n",
    "\n",
    "mrr_list"
   ]
  },
  {
   "cell_type": "markdown",
   "metadata": {},
   "source": [
    "## NDCG"
   ]
  },
  {
   "cell_type": "code",
   "execution_count": 34,
   "metadata": {},
   "outputs": [
    {
     "data": {
      "text/plain": [
       "[0.9684426357451889, 0.9404370159386687, 0.7265044669826709]"
      ]
     },
     "execution_count": 34,
     "metadata": {},
     "output_type": "execute_result"
    }
   ],
   "source": [
    "# Function to calculate DCG\n",
    "def dcg(scores):\n",
    "    return np.sum(\n",
    "        (2**scores - 1) / np.log2(np.arange(2, scores.size + 2))\n",
    "    )\n",
    "\n",
    "# Function to calculate NDCG for each query\n",
    "def ndcg(df):\n",
    "    df_sorted = df.sort_values(by='Ranking (position)')\n",
    "    actual_relevances = df_sorted['Relevance'].values\n",
    "    ideal_relevances = np.sort(df_sorted['Relevance'].values)[::-1]\n",
    "    \n",
    "    dcg_actual = dcg(actual_relevances)\n",
    "    dcg_ideal = dcg(ideal_relevances)\n",
    "    \n",
    "    return dcg_actual / dcg_ideal if dcg_ideal > 0 else 0\n",
    "\n",
    "# Calculate NDCG for each query\n",
    "ndcg_list = []\n",
    "for df in test_results:\n",
    "    ndcg_scores = df.groupby('Query').apply(ndcg, include_groups=False) \n",
    "    ndcg_list.append(ndcg_scores.mean())\n",
    "\n",
    "ndcg_list"
   ]
  },
  {
   "cell_type": "markdown",
   "metadata": {},
   "source": [
    "## Zero Response Rate"
   ]
  },
  {
   "cell_type": "code",
   "execution_count": 49,
   "metadata": {},
   "outputs": [
    {
     "data": {
      "text/plain": [
       "[0.020689655172413793, 0.021897810218978103, 0.2689655172413793]"
      ]
     },
     "execution_count": 49,
     "metadata": {},
     "output_type": "execute_result"
    }
   ],
   "source": [
    "zrr_list = []\n",
    "\n",
    "for df in test_results:\n",
    "    zero_result_queries = df.groupby('Query')['Relevance'].max().value_counts()[0]\n",
    "    total_queries = len(df['Query'].unique())\n",
    "    zrr = zero_result_queries / total_queries\n",
    "    zrr_list.append(zrr)\n",
    "\n",
    "zrr_list"
   ]
  },
  {
   "cell_type": "markdown",
   "metadata": {},
   "source": [
    "## Plot"
   ]
  },
  {
   "cell_type": "code",
   "execution_count": 35,
   "metadata": {},
   "outputs": [],
   "source": [
    "import matplotlib.pyplot as plt"
   ]
  },
  {
   "cell_type": "code",
   "execution_count": 54,
   "metadata": {},
   "outputs": [
    {
     "data": {
      "text/html": [
       "<div>\n",
       "<style scoped>\n",
       "    .dataframe tbody tr th:only-of-type {\n",
       "        vertical-align: middle;\n",
       "    }\n",
       "\n",
       "    .dataframe tbody tr th {\n",
       "        vertical-align: top;\n",
       "    }\n",
       "\n",
       "    .dataframe thead th {\n",
       "        text-align: right;\n",
       "    }\n",
       "</style>\n",
       "<table border=\"1\" class=\"dataframe\">\n",
       "  <thead>\n",
       "    <tr style=\"text-align: right;\">\n",
       "      <th></th>\n",
       "      <th>MRR</th>\n",
       "      <th>NDCG</th>\n",
       "      <th>ZRR</th>\n",
       "    </tr>\n",
       "  </thead>\n",
       "  <tbody>\n",
       "    <tr>\n",
       "      <th>SCS</th>\n",
       "      <td>0.968966</td>\n",
       "      <td>0.968443</td>\n",
       "      <td>0.020690</td>\n",
       "    </tr>\n",
       "    <tr>\n",
       "      <th>Elasticsearch</th>\n",
       "      <td>0.934550</td>\n",
       "      <td>0.940437</td>\n",
       "      <td>0.021898</td>\n",
       "    </tr>\n",
       "    <tr>\n",
       "      <th>TritonSearch</th>\n",
       "      <td>0.724138</td>\n",
       "      <td>0.726504</td>\n",
       "      <td>0.268966</td>\n",
       "    </tr>\n",
       "  </tbody>\n",
       "</table>\n",
       "</div>"
      ],
      "text/plain": [
       "                    MRR      NDCG       ZRR\n",
       "SCS            0.968966  0.968443  0.020690\n",
       "Elasticsearch  0.934550  0.940437  0.021898\n",
       "TritonSearch   0.724138  0.726504  0.268966"
      ]
     },
     "execution_count": 54,
     "metadata": {},
     "output_type": "execute_result"
    }
   ],
   "source": [
    "data = pd.DataFrame({'MRR': mrr_list, 'NDCG': ndcg_list, 'ZRR': zrr_list})\n",
    "data.index = ['SCS', 'Elasticsearch', 'TritonSearch']\n",
    "data"
   ]
  },
  {
   "cell_type": "code",
   "execution_count": 61,
   "metadata": {},
   "outputs": [
    {
     "data": {
      "image/png": "[encoded data removed]",
      "text/plain": [
       "<Figure size 640x480 with 1 Axes>"
      ]
     },
     "metadata": {},
     "output_type": "display_data"
    }
   ],
   "source": [
    "ax = data.T.plot.bar(rot=0)\n",
    "plt.xlabel('Metrics')\n",
    "plt.ylabel('Values')\n",
    "plt.title('Evaluation of SCS, Elasticsearch, and TritonSearch')\n",
    "plt.show()"
   ]
  }
 ],
 "metadata": {
  "kernelspec": {
   "display_name": "Python 3 (ipykernel)",
   "language": "python",
   "name": "python3"
  },
  "language_info": {
   "codemirror_mode": {
    "name": "ipython",
    "version": 3
   },
   "file_extension": ".py",
   "mimetype": "text/x-python",
   "name": "python",
   "nbconvert_exporter": "python",
   "pygments_lexer": "ipython3",
   "version": "3.11.5"
  }
 },
 "nbformat": 4,
 "nbformat_minor": 2
}
