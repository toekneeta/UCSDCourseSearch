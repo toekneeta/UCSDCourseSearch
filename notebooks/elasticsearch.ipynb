{
 "cells": [
  {
   "cell_type": "markdown",
   "metadata": {},
   "source": [
    "**Note**: Before running this code, please ensure an Elasticsearch instance is running first. If not, run \n",
    "`docker run --rm -p 9200:9200 -p 9300:9300 -e \"xpack.security.enabled=false\" -e \"discovery.type=single-node\" docker.elastic.co/elasticsearch/elasticsearch:8.7.0 ` \n",
    "in your terminal. "
   ]
  },
  {
   "cell_type": "code",
   "execution_count": 1,
   "metadata": {},
   "outputs": [],
   "source": [
    "import pandas as pd\n",
    "import numpy as np\n",
    "from elasticsearch import Elasticsearch\n",
    "from elasticsearch.helpers import bulk"
   ]
  },
  {
   "cell_type": "markdown",
   "metadata": {},
   "source": [
    "## Step 0: Loading in Data"
   ]
  },
  {
   "cell_type": "code",
   "execution_count": 2,
   "metadata": {},
   "outputs": [
    {
     "data": {
      "text/html": [
       "<div>\n",
       "<style scoped>\n",
       "    .dataframe tbody tr th:only-of-type {\n",
       "        vertical-align: middle;\n",
       "    }\n",
       "\n",
       "    .dataframe tbody tr th {\n",
       "        vertical-align: top;\n",
       "    }\n",
       "\n",
       "    .dataframe thead th {\n",
       "        text-align: right;\n",
       "    }\n",
       "</style>\n",
       "<table border=\"1\" class=\"dataframe\">\n",
       "  <thead>\n",
       "    <tr style=\"text-align: right;\">\n",
       "      <th></th>\n",
       "      <th>Code</th>\n",
       "      <th>Department</th>\n",
       "      <th>Title</th>\n",
       "      <th>Units</th>\n",
       "      <th>Description</th>\n",
       "      <th>Prerequisites</th>\n",
       "      <th>Level</th>\n",
       "      <th>URL</th>\n",
       "      <th>Description Embeddings</th>\n",
       "      <th>Title Embeddings</th>\n",
       "      <th>Spring</th>\n",
       "    </tr>\n",
       "  </thead>\n",
       "  <tbody>\n",
       "    <tr>\n",
       "      <th>0</th>\n",
       "      <td>AIP 97</td>\n",
       "      <td>AIP</td>\n",
       "      <td>Academic Internship</td>\n",
       "      <td>2, 4</td>\n",
       "      <td>Individual placements for field learning. Must...</td>\n",
       "      <td>lower-division standing, completion of thirty ...</td>\n",
       "      <td>Lower Division</td>\n",
       "      <td>https://cape.ucsd.edu/responses/Results.aspx?N...</td>\n",
       "      <td>[-0.015916548669338226, -0.02055269479751587, ...</td>\n",
       "      <td>[0.020150907337665558, 0.027494141831994057, -...</td>\n",
       "      <td>F</td>\n",
       "    </tr>\n",
       "    <tr>\n",
       "      <th>1</th>\n",
       "      <td>AIP 197</td>\n",
       "      <td>AIP</td>\n",
       "      <td>Academic Internship Program</td>\n",
       "      <td>2, 4, 6, 8, 10, 12</td>\n",
       "      <td>Individual internship placements integrated wi...</td>\n",
       "      <td>upper-division standing; department approval.</td>\n",
       "      <td>Upper Division</td>\n",
       "      <td>https://cape.ucsd.edu/responses/Results.aspx?N...</td>\n",
       "      <td>[0.014821934513747692, -0.016383204609155655, ...</td>\n",
       "      <td>[0.007122549694031477, 0.03160935267806053, -0...</td>\n",
       "      <td>F</td>\n",
       "    </tr>\n",
       "    <tr>\n",
       "      <th>2</th>\n",
       "      <td>AIP 197DC</td>\n",
       "      <td>AIP</td>\n",
       "      <td>UCDC: Washington, DC Internship</td>\n",
       "      <td>6, 8, 10</td>\n",
       "      <td>This internship is attached to the University ...</td>\n",
       "      <td>upper-division standing; department approval.</td>\n",
       "      <td>Upper Division</td>\n",
       "      <td>https://cape.ucsd.edu/responses/Results.aspx?N...</td>\n",
       "      <td>[0.011095795780420303, -0.020766522735357285, ...</td>\n",
       "      <td>[-0.015360986813902855, -0.006952735595405102,...</td>\n",
       "      <td>F</td>\n",
       "    </tr>\n",
       "    <tr>\n",
       "      <th>3</th>\n",
       "      <td>AIP 197P</td>\n",
       "      <td>AIP</td>\n",
       "      <td>Public Service Internship</td>\n",
       "      <td>4, 8, 12</td>\n",
       "      <td>Individual placements for field learning perfo...</td>\n",
       "      <td>ninety units completed; 2.5 minimum cumulative...</td>\n",
       "      <td>Upper Division</td>\n",
       "      <td>https://cape.ucsd.edu/responses/Results.aspx?N...</td>\n",
       "      <td>[0.01937849633395672, 0.002653240691870451, -0...</td>\n",
       "      <td>[-0.006266473326832056, -0.006047536619007587,...</td>\n",
       "      <td>F</td>\n",
       "    </tr>\n",
       "    <tr>\n",
       "      <th>4</th>\n",
       "      <td>AIP 197T</td>\n",
       "      <td>AIP</td>\n",
       "      <td>Academic Internship Program—Special Programs</td>\n",
       "      <td>2</td>\n",
       "      <td>Individual placements for field learning assoc...</td>\n",
       "      <td>ninety units minimum completed; 2.5 minimum cu...</td>\n",
       "      <td>Upper Division</td>\n",
       "      <td>https://cape.ucsd.edu/responses/Results.aspx?N...</td>\n",
       "      <td>[-0.018711868673563004, -0.014204149134457111,...</td>\n",
       "      <td>[-0.022189151495695114, 0.08559203147888184, 0...</td>\n",
       "      <td>F</td>\n",
       "    </tr>\n",
       "  </tbody>\n",
       "</table>\n",
       "</div>"
      ],
      "text/plain": [
       "        Code Department                                         Title  \\\n",
       "0     AIP 97        AIP                           Academic Internship   \n",
       "1    AIP 197        AIP                   Academic Internship Program   \n",
       "2  AIP 197DC        AIP               UCDC: Washington, DC Internship   \n",
       "3   AIP 197P        AIP                     Public Service Internship   \n",
       "4   AIP 197T        AIP  Academic Internship Program—Special Programs   \n",
       "\n",
       "                Units                                        Description  \\\n",
       "0                2, 4  Individual placements for field learning. Must...   \n",
       "1  2, 4, 6, 8, 10, 12  Individual internship placements integrated wi...   \n",
       "2            6, 8, 10  This internship is attached to the University ...   \n",
       "3            4, 8, 12  Individual placements for field learning perfo...   \n",
       "4                   2  Individual placements for field learning assoc...   \n",
       "\n",
       "                                       Prerequisites           Level  \\\n",
       "0  lower-division standing, completion of thirty ...  Lower Division   \n",
       "1      upper-division standing; department approval.  Upper Division   \n",
       "2      upper-division standing; department approval.  Upper Division   \n",
       "3  ninety units completed; 2.5 minimum cumulative...  Upper Division   \n",
       "4  ninety units minimum completed; 2.5 minimum cu...  Upper Division   \n",
       "\n",
       "                                                 URL  \\\n",
       "0  https://cape.ucsd.edu/responses/Results.aspx?N...   \n",
       "1  https://cape.ucsd.edu/responses/Results.aspx?N...   \n",
       "2  https://cape.ucsd.edu/responses/Results.aspx?N...   \n",
       "3  https://cape.ucsd.edu/responses/Results.aspx?N...   \n",
       "4  https://cape.ucsd.edu/responses/Results.aspx?N...   \n",
       "\n",
       "                              Description Embeddings  \\\n",
       "0  [-0.015916548669338226, -0.02055269479751587, ...   \n",
       "1  [0.014821934513747692, -0.016383204609155655, ...   \n",
       "2  [0.011095795780420303, -0.020766522735357285, ...   \n",
       "3  [0.01937849633395672, 0.002653240691870451, -0...   \n",
       "4  [-0.018711868673563004, -0.014204149134457111,...   \n",
       "\n",
       "                                    Title Embeddings Spring  \n",
       "0  [0.020150907337665558, 0.027494141831994057, -...      F  \n",
       "1  [0.007122549694031477, 0.03160935267806053, -0...      F  \n",
       "2  [-0.015360986813902855, -0.006952735595405102,...      F  \n",
       "3  [-0.006266473326832056, -0.006047536619007587,...      F  \n",
       "4  [-0.022189151495695114, 0.08559203147888184, 0...      F  "
      ]
     },
     "execution_count": 2,
     "metadata": {},
     "output_type": "execute_result"
    }
   ],
   "source": [
    "course_info = pd.read_pickle('../data/course_catalog_final.pkl')\n",
    "course_info.head()"
   ]
  },
  {
   "cell_type": "code",
   "execution_count": 3,
   "metadata": {},
   "outputs": [
    {
     "data": {
      "text/plain": [
       "384"
      ]
     },
     "execution_count": 3,
     "metadata": {},
     "output_type": "execute_result"
    }
   ],
   "source": [
    "len(course_info['Title Embeddings'][0])"
   ]
  },
  {
   "cell_type": "code",
   "execution_count": 4,
   "metadata": {},
   "outputs": [],
   "source": [
    "# Elasticsearch will not take tensors\n",
    "course_info['Title Embeddings'] = course_info['Title Embeddings'].apply(lambda x: x.tolist())\n",
    "course_info['Description Embeddings'] = course_info['Description Embeddings'].apply(lambda x: x.tolist())"
   ]
  },
  {
   "cell_type": "markdown",
   "metadata": {},
   "source": [
    "## Step 1: Set up Elasticsearch"
   ]
  },
  {
   "cell_type": "code",
   "execution_count": 5,
   "metadata": {},
   "outputs": [
    {
     "data": {
      "text/plain": [
       "{'name': '41a8f2ecdb77',\n",
       " 'cluster_name': 'docker-cluster',\n",
       " 'cluster_uuid': 'bDokc4nkQqWX7deXy6aWUw',\n",
       " 'version': {'number': '8.7.0',\n",
       "  'build_flavor': 'default',\n",
       "  'build_type': 'docker',\n",
       "  'build_hash': '09520b59b6bc1057340b55750186466ea715e30e',\n",
       "  'build_date': '2023-03-27T16:31:09.816451435Z',\n",
       "  'build_snapshot': False,\n",
       "  'lucene_version': '9.5.0',\n",
       "  'minimum_wire_compatibility_version': '7.17.0',\n",
       "  'minimum_index_compatibility_version': '7.0.0'},\n",
       " 'tagline': 'You Know, for Search'}"
      ]
     },
     "execution_count": 5,
     "metadata": {},
     "output_type": "execute_result"
    }
   ],
   "source": [
    "es = Elasticsearch(\"http://localhost:9200\")\n",
    "es.info().body"
   ]
  },
  {
   "cell_type": "code",
   "execution_count": 6,
   "metadata": {},
   "outputs": [],
   "source": [
    "# creating mappings \n",
    "mappings = {\n",
    "    \"properties\": {\n",
    "        'Code': {\"type\": \"text\"}, \n",
    "        'Department': {\"type\": \"keyword\"}, \n",
    "        'Title': {\"type\": \"text\"}, \n",
    "        'Units': {\"type\": \"text\"}, \n",
    "        'Description': {\"type\": \"text\"}, \n",
    "        'Prerequisites': {\"type\": \"text\"}, \n",
    "        'Level': {\"type\": \"keyword\"}, \n",
    "        'URL': {\"type\": \"text\"}, \n",
    "        'Description Embeddings':{'type': 'dense_vector', 'dims':384, \"index\":True, \"similarity\":\"cosine\"},\n",
    "        'Title Embeddings':{'type': 'dense_vector', 'dims':384, \"index\":True, \"similarity\":\"cosine\"},\n",
    "    }\n",
    "}"
   ]
  },
  {
   "cell_type": "code",
   "execution_count": 7,
   "metadata": {},
   "outputs": [],
   "source": [
    "try:\n",
    "    es.indices.create(index=\"courses\", mappings=mappings)\n",
    "except:\n",
    "    print('passed')\n",
    "    pass"
   ]
  },
  {
   "cell_type": "code",
   "execution_count": 8,
   "metadata": {},
   "outputs": [
    {
     "data": {
      "text/plain": [
       "(7169, [])"
      ]
     },
     "execution_count": 8,
     "metadata": {},
     "output_type": "execute_result"
    }
   ],
   "source": [
    "# Creating a list of dictionaries with all the data to be added in to the ElasticSearch index\n",
    "bulk_data = []\n",
    "for i, row in course_info.iterrows():\n",
    "    bulk_data.append(\n",
    "        {\n",
    "            \"_index\": \"courses\",\n",
    "            \"_id\": i,\n",
    "            \"_source\": {\n",
    "                \"Code\": row['Code'],\n",
    "                'Department': row['Department'], \n",
    "                'Title': row['Title'], \n",
    "                'Units': row['Units'], \n",
    "                'Description': row['Description'], \n",
    "                'Prerequisites': row['Prerequisites'],\n",
    "                'Level':row['Level'],\n",
    "                'URL':row['URL'],\n",
    "                'Description Embeddings': row['Description Embeddings'],\n",
    "                'Title Embeddings':row['Title Embeddings'],\n",
    "            }\n",
    "        }\n",
    "    )\n",
    "\n",
    "bulk(es, bulk_data)"
   ]
  },
  {
   "cell_type": "code",
   "execution_count": 9,
   "metadata": {},
   "outputs": [
    {
     "data": {
      "text/plain": [
       "ListApiResponse([{'epoch': '1710361726', 'timestamp': '20:28:46', 'count': '7169'}])"
      ]
     },
     "execution_count": 9,
     "metadata": {},
     "output_type": "execute_result"
    }
   ],
   "source": [
    "# verifying that all data has been read into the python index properly\n",
    "es.indices.refresh(index=\"courses\")\n",
    "es.cat.count(index=\"courses\", format=\"json\")"
   ]
  },
  {
   "cell_type": "markdown",
   "metadata": {},
   "source": [
    "## Step 3: Performing Search"
   ]
  },
  {
   "cell_type": "markdown",
   "metadata": {},
   "source": [
    "### Basic Elasticsearch"
   ]
  },
  {
   "cell_type": "code",
   "execution_count": 10,
   "metadata": {},
   "outputs": [],
   "source": [
    "def es_search(query, upperdiv=True, lowerdiv=True, graduate=True, include='', exclude='', k=10):\n",
    "    # Build the query\n",
    "    must_clauses = [{\n",
    "        \"query_string\": {\n",
    "            \"query\": query,\n",
    "            \"fields\": [\n",
    "                'Code',\n",
    "                'Department',\n",
    "                'Title',\n",
    "                'Description',\n",
    "                'Prerequisites',\n",
    "                'Level'\n",
    "            ],\n",
    "            \"phrase_slop\": 2\n",
    "        }\n",
    "    }]\n",
    "\n",
    "    # Process include and exclude lists\n",
    "    include_list = include.upper().replace(\" \", \"\").split(',')\n",
    "    exclude_list = exclude.upper().replace(\" \", \"\").split(',')\n",
    "\n",
    "    # Add department filters\n",
    "    if include_list != ['']:\n",
    "        must_clauses.append({\"terms\": {\"Department\": include_list}})\n",
    "    \n",
    "    must_not_clause = {\"terms\": {\"Department\": exclude_list}} if exclude_list != [''] else []\n",
    "\n",
    "\n",
    "    # Initialize the 'should' clause for class level filters\n",
    "    should_clauses = []\n",
    "    if upperdiv:\n",
    "        should_clauses.append({\"match\": {\"Level\": \"Upper Division\"}})\n",
    "    if lowerdiv:\n",
    "        should_clauses.append({\"match\": {\"Level\": \"Lower Division\"}})\n",
    "    if graduate:\n",
    "        should_clauses.append({\"match\": {\"Level\": \"Graduate\"}})\n",
    "\n",
    "    # Build the final query\n",
    "    es_query = {\n",
    "        \"query\": {\n",
    "            \"bool\": {\n",
    "                \"must\": must_clauses,\n",
    "                \"should\": should_clauses,\n",
    "                \"must_not\": must_not_clause,\n",
    "                # \"minimum_should_match\": 1 if should_clauses else 0\n",
    "            }\n",
    "        },\n",
    "        \"size\": k\n",
    "    }\n",
    "\n",
    "    response = es.search(index=\"courses\", body=es_query)\n",
    "    \n",
    "    results = []\n",
    "    for hit in response['hits']['hits']:\n",
    "        row = hit['_source']\n",
    "        results.append((row['Code'], row['Title'], hit['_score']))\n",
    "        \n",
    "    return results"
   ]
  },
  {
   "cell_type": "code",
   "execution_count": 11,
   "metadata": {},
   "outputs": [
    {
     "data": {
      "text/plain": [
       "[('ECON 109', 'Game Theory', 14.601797),\n",
       " ('ECON 262', 'Behavioral Game Theory', 13.264897),\n",
       " ('POLI 204C', 'Game Theory 1', 13.264897)]"
      ]
     },
     "execution_count": 11,
     "metadata": {},
     "output_type": "execute_result"
    }
   ],
   "source": [
    "# example\n",
    "es_search(\"game theory\", k=3)"
   ]
  },
  {
   "cell_type": "markdown",
   "metadata": {},
   "source": [
    "### Semantic Elasticsearch"
   ]
  },
  {
   "cell_type": "code",
   "execution_count": 54,
   "metadata": {},
   "outputs": [],
   "source": [
    "from FlagEmbedding import FlagModel\n",
    "import heapq"
   ]
  },
  {
   "cell_type": "code",
   "execution_count": 61,
   "metadata": {},
   "outputs": [],
   "source": [
    "def sem_es_search(query, k=10):\n",
    "    \"\"\"\n",
    "    Performs a search on embeddings (only can do one field at a time)\n",
    "    \"\"\"\n",
    "    model = FlagModel('BAAI/bge-small-en-v1.5', \n",
    "                  query_instruction_for_retrieval=\"Represent this sentence for searching relevant passages: \",\n",
    "                  use_fp16=True) # Setting use_fp16 to True speeds up computation with a slight performance degradation\n",
    "    query_array = model.encode(query).tolist()\n",
    "    \n",
    "    description_search_query = {\n",
    "        \"size\": k + 5\n",
    "        ,  # Number of results to return\n",
    "        \"knn\": {\n",
    "            \"field\": \"Description Embeddings\",  \n",
    "            \"query_vector\": query_array,\n",
    "            \"k\": k + 5,  # Number of nearest neighbors to retrieve\n",
    "            \"num_candidates\": 8000  # Number of candidate hits the search will examine\n",
    "        }\n",
    "    }\n",
    "\n",
    "    title_search_query = {\n",
    "        \"size\": k + 5,  # Number of results to return\n",
    "        \"knn\": {\n",
    "            \"field\": \"Title Embeddings\",  \n",
    "            \"query_vector\": query_array,\n",
    "            \"k\": k + 5,  # Number of nearest neighbors to retrieve\n",
    "            \"num_candidates\": 8000  # Number of candidate hits the search will examine\n",
    "        }\n",
    "    }\n",
    "    \n",
    "    desc_response = es.search(index=\"courses\", body=description_search_query)\n",
    "    title_response = es.search(index=\"courses\", body=title_search_query)\n",
    "\n",
    "    # combine weighted results\n",
    "    desc_weight = 0.3\n",
    "    title_weight = 0.7\n",
    "    combined_results = {}\n",
    "    for item in title_response['hits']['hits']:\n",
    "        id_ = item['_id']\n",
    "        combined_results[id_] = {'score': title_weight * item['_score'], 'doc': item}\n",
    "    for item in desc_response['hits']['hits']:\n",
    "        id_ = item['_id']\n",
    "        if id_ in combined_results:\n",
    "            combined_results[id_]['score'] += desc_weight * item['_score']\n",
    "        else:\n",
    "            combined_results[id_] = {'score': desc_weight * item['_score'], 'doc': item}\n",
    "    \n",
    "    # get top k results from combined scores\n",
    "    top_k_items = heapq.nlargest(k, combined_results.values(), key=lambda x: x['score'])\n",
    "    \n",
    "    # return top k results (with info)\n",
    "    results = []\n",
    "    for item in top_k_items:\n",
    "        row = item['doc']['_source']\n",
    "        results.append((row['Code'], row['Title'], item['doc']['_score']))\n",
    "    return results\n",
    "\n",
    "    # if you want to look at individual performance instead\n",
    "    # individual_results = ['-------------------------------------']\n",
    "    # for response in [desc_response, title_response]:\n",
    "    #     for hit in response['hits']['hits']:\n",
    "    #         row = hit['_source']\n",
    "    #         individual_results.append((row['Code'], row['Title'], hit['_score']))\n",
    "    #     individual_results.append('-------------------------------------')\n",
    "    # return individual_results\n"
   ]
  },
  {
   "cell_type": "code",
   "execution_count": 62,
   "metadata": {},
   "outputs": [
    {
     "data": {
      "text/plain": [
       "[('ECON 109', 'Game Theory', 1.0),\n",
       " ('POLI 204C', 'Game Theory 1', 0.9684946),\n",
       " ('POLI 205', 'Game Theory II', 0.9508383)]"
      ]
     },
     "execution_count": 62,
     "metadata": {},
     "output_type": "execute_result"
    }
   ],
   "source": [
    "# example semantic search\n",
    "sem_es_search(\"game theory\", k=3)"
   ]
  }
 ],
 "metadata": {
  "kernelspec": {
   "display_name": "base",
   "language": "python",
   "name": "python3"
  },
  "language_info": {
   "codemirror_mode": {
    "name": "ipython",
    "version": 3
   },
   "file_extension": ".py",
   "mimetype": "text/x-python",
   "name": "python",
   "nbconvert_exporter": "python",
   "pygments_lexer": "ipython3",
   "version": "3.11.5"
  }
 },
 "nbformat": 4,
 "nbformat_minor": 2
}
